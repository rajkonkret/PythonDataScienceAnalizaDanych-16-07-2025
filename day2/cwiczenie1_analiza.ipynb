{
 "cells": [
  {
   "metadata": {},
   "cell_type": "markdown",
   "source": [
    "Początek progrmu\\\n",
    "**pogrubiony tekst**\\\n",
    "Nowa linia\n",
    "\n",
    "# Nowa Sekcja\n",
    "## Nowa sekcja\n",
    "### Nowa sekcja"
   ],
   "id": "43ffc82819e8d032"
  },
  {
   "cell_type": "code",
   "id": "initial_id",
   "metadata": {
    "collapsed": true,
    "ExecuteTime": {
     "end_time": "2025-10-17T06:34:30.551331Z",
     "start_time": "2025-10-17T06:34:30.539110Z"
    }
   },
   "source": "print('Witaj w notatniku...')",
   "outputs": [
    {
     "name": "stdout",
     "output_type": "stream",
     "text": [
      "Witaj w notatniku...\n"
     ]
    }
   ],
   "execution_count": 1
  },
  {
   "metadata": {
    "ExecuteTime": {
     "end_time": "2025-10-17T06:35:15.729215Z",
     "start_time": "2025-10-17T06:35:15.693806Z"
    }
   },
   "cell_type": "code",
   "source": [
    "a = 5\n",
    "b = 6"
   ],
   "id": "3ba8408a2cd894c6",
   "outputs": [],
   "execution_count": 2
  },
  {
   "metadata": {
    "ExecuteTime": {
     "end_time": "2025-10-17T06:35:34.987101Z",
     "start_time": "2025-10-17T06:35:34.974903Z"
    }
   },
   "cell_type": "code",
   "source": "print(a, b)",
   "id": "6637a2f661a267aa",
   "outputs": [
    {
     "name": "stdout",
     "output_type": "stream",
     "text": [
      "5 6\n"
     ]
    }
   ],
   "execution_count": 3
  },
  {
   "metadata": {
    "ExecuteTime": {
     "end_time": "2025-10-17T06:35:52.872556Z",
     "start_time": "2025-10-17T06:35:52.860286Z"
    }
   },
   "cell_type": "code",
   "source": "a",
   "id": "646571257e57312a",
   "outputs": [
    {
     "data": {
      "text/plain": [
       "5"
      ]
     },
     "execution_count": 4,
     "metadata": {},
     "output_type": "execute_result"
    }
   ],
   "execution_count": 4
  },
  {
   "metadata": {},
   "cell_type": "code",
   "outputs": [],
   "execution_count": null,
   "source": "c = 9",
   "id": "995da90031d96568"
  },
  {
   "metadata": {},
   "cell_type": "markdown",
   "source": "Celowo nie uruchamiam komórki c = 9",
   "id": "995d68a5feab9893"
  },
  {
   "metadata": {
    "ExecuteTime": {
     "end_time": "2025-10-17T06:36:48.487485Z",
     "start_time": "2025-10-17T06:36:48.462898Z"
    }
   },
   "cell_type": "code",
   "source": "print(c)",
   "id": "d1e82ac7375ac961",
   "outputs": [
    {
     "ename": "NameError",
     "evalue": "name 'c' is not defined",
     "output_type": "error",
     "traceback": [
      "\u001B[31m---------------------------------------------------------------------------\u001B[39m",
      "\u001B[31mNameError\u001B[39m                                 Traceback (most recent call last)",
      "\u001B[36mCell\u001B[39m\u001B[36m \u001B[39m\u001B[32mIn[6]\u001B[39m\u001B[32m, line 1\u001B[39m\n\u001B[32m----> \u001B[39m\u001B[32m1\u001B[39m \u001B[38;5;28mprint\u001B[39m(\u001B[43mc\u001B[49m)\n",
      "\u001B[31mNameError\u001B[39m: name 'c' is not defined"
     ]
    }
   ],
   "execution_count": 6
  },
  {
   "metadata": {},
   "cell_type": "markdown",
   "source": [
    "# Biblioteka NumPy\n",
    "\n",
    "Napisana w C do szybkich operacji na danych tablicowych\\\n",
    "Podstawowy element ndarray"
   ],
   "id": "66e3978e73b1bf"
  },
  {
   "metadata": {
    "ExecuteTime": {
     "end_time": "2025-10-17T06:51:15.268085Z",
     "start_time": "2025-10-17T06:51:04.105215Z"
    }
   },
   "cell_type": "code",
   "source": "!pip install numpy",
   "id": "1bd3202067ca62a1",
   "outputs": [
    {
     "name": "stdout",
     "output_type": "stream",
     "text": [
      "Collecting numpy\n",
      "  Downloading numpy-2.3.4-cp313-cp313-win_amd64.whl.metadata (60 kB)\n",
      "Downloading numpy-2.3.4-cp313-cp313-win_amd64.whl (12.8 MB)\n",
      "   ---------------------------------------- 0.0/12.8 MB ? eta -:--:--\n",
      "   ---------------------------------------  12.6/12.8 MB 91.2 MB/s eta 0:00:01\n",
      "   ---------------------------------------- 12.8/12.8 MB 47.5 MB/s eta 0:00:00\n",
      "Installing collected packages: numpy\n",
      "Successfully installed numpy-2.3.4\n"
     ]
    },
    {
     "name": "stderr",
     "output_type": "stream",
     "text": [
      "\n",
      "[notice] A new release of pip is available: 25.1.1 -> 25.2\n",
      "[notice] To update, run: python.exe -m pip install --upgrade pip\n"
     ]
    }
   ],
   "execution_count": 7
  },
  {
   "metadata": {
    "ExecuteTime": {
     "end_time": "2025-10-17T06:52:10.732202Z",
     "start_time": "2025-10-17T06:52:10.063650Z"
    }
   },
   "cell_type": "code",
   "source": "import numpy as np",
   "id": "c1cef7f90be93f5f",
   "outputs": [],
   "execution_count": 8
  },
  {
   "metadata": {
    "ExecuteTime": {
     "end_time": "2025-10-17T06:52:40.253653Z",
     "start_time": "2025-10-17T06:52:40.250510Z"
    }
   },
   "cell_type": "code",
   "source": "print(np.__version__)",
   "id": "f5023331ca3d75dd",
   "outputs": [
    {
     "name": "stdout",
     "output_type": "stream",
     "text": [
      "2.3.4\n"
     ]
    }
   ],
   "execution_count": 9
  },
  {
   "metadata": {
    "ExecuteTime": {
     "end_time": "2025-10-17T06:53:13.297425Z",
     "start_time": "2025-10-17T06:53:13.293562Z"
    }
   },
   "cell_type": "code",
   "source": [
    "lista = [2, 4, 6, 8, 10]\n",
    "lista"
   ],
   "id": "8ec0def2bf561a61",
   "outputs": [
    {
     "data": {
      "text/plain": [
       "[2, 4, 6, 8, 10]"
      ]
     },
     "execution_count": 10,
     "metadata": {},
     "output_type": "execute_result"
    }
   ],
   "execution_count": 10
  },
  {
   "metadata": {
    "ExecuteTime": {
     "end_time": "2025-10-17T06:53:32.192557Z",
     "start_time": "2025-10-17T06:53:32.188203Z"
    }
   },
   "cell_type": "code",
   "source": [
    "a = np.array(lista)\n",
    "a"
   ],
   "id": "ce8c2d44ca054dd0",
   "outputs": [
    {
     "data": {
      "text/plain": [
       "array([ 2,  4,  6,  8, 10])"
      ]
     },
     "execution_count": 11,
     "metadata": {},
     "output_type": "execute_result"
    }
   ],
   "execution_count": 11
  },
  {
   "metadata": {
    "ExecuteTime": {
     "end_time": "2025-10-17T06:54:33.550335Z",
     "start_time": "2025-10-17T06:54:33.545412Z"
    }
   },
   "cell_type": "code",
   "source": "a.dtype",
   "id": "e7b2bafd4d73f4f1",
   "outputs": [
    {
     "data": {
      "text/plain": [
       "dtype('int64')"
      ]
     },
     "execution_count": 13,
     "metadata": {},
     "output_type": "execute_result"
    }
   ],
   "execution_count": 13
  },
  {
   "metadata": {},
   "cell_type": "markdown",
   "source": "int64 - 8 bajtów",
   "id": "2dadf51246fc1ba8"
  },
  {
   "metadata": {
    "ExecuteTime": {
     "end_time": "2025-10-17T06:55:46.730761Z",
     "start_time": "2025-10-17T06:55:46.726924Z"
    }
   },
   "cell_type": "code",
   "source": "type(a)",
   "id": "35d8d897447546f9",
   "outputs": [
    {
     "data": {
      "text/plain": [
       "numpy.ndarray"
      ]
     },
     "execution_count": 14,
     "metadata": {},
     "output_type": "execute_result"
    }
   ],
   "execution_count": 14
  },
  {
   "metadata": {
    "ExecuteTime": {
     "end_time": "2025-10-17T06:56:11.383771Z",
     "start_time": "2025-10-17T06:56:11.380004Z"
    }
   },
   "cell_type": "code",
   "source": "a.shape  # kształt",
   "id": "72830c622d43a0d5",
   "outputs": [
    {
     "data": {
      "text/plain": [
       "(5,)"
      ]
     },
     "execution_count": 15,
     "metadata": {},
     "output_type": "execute_result"
    }
   ],
   "execution_count": 15
  },
  {
   "metadata": {
    "ExecuteTime": {
     "end_time": "2025-10-17T06:57:32.205117Z",
     "start_time": "2025-10-17T06:57:32.200594Z"
    }
   },
   "cell_type": "code",
   "source": [
    "p = np.zeros((3, 3))\n",
    "p"
   ],
   "id": "cc3053c5badb80cd",
   "outputs": [
    {
     "data": {
      "text/plain": [
       "array([[0., 0., 0.],\n",
       "       [0., 0., 0.],\n",
       "       [0., 0., 0.]])"
      ]
     },
     "execution_count": 16,
     "metadata": {},
     "output_type": "execute_result"
    }
   ],
   "execution_count": 16
  },
  {
   "metadata": {
    "ExecuteTime": {
     "end_time": "2025-10-17T06:58:23.074408Z",
     "start_time": "2025-10-17T06:58:23.070466Z"
    }
   },
   "cell_type": "code",
   "source": "print(p)",
   "id": "5940be35a3e664ce",
   "outputs": [
    {
     "name": "stdout",
     "output_type": "stream",
     "text": [
      "[[0. 0. 0.]\n",
      " [0. 0. 0.]\n",
      " [0. 0. 0.]]\n"
     ]
    }
   ],
   "execution_count": 17
  },
  {
   "metadata": {
    "ExecuteTime": {
     "end_time": "2025-10-17T06:59:43.667782Z",
     "start_time": "2025-10-17T06:59:43.664559Z"
    }
   },
   "cell_type": "code",
   "source": "print(p.dtype)",
   "id": "8a2265662ab87099",
   "outputs": [
    {
     "name": "stdout",
     "output_type": "stream",
     "text": [
      "float64\n"
     ]
    }
   ],
   "execution_count": 18
  },
  {
   "metadata": {
    "ExecuteTime": {
     "end_time": "2025-10-17T07:00:49.247829Z",
     "start_time": "2025-10-17T07:00:49.241244Z"
    }
   },
   "cell_type": "code",
   "source": [
    "q = np.ones((2, 2))\n",
    "print(q)\n",
    "q.dtype"
   ],
   "id": "24b53d470ad2643f",
   "outputs": [
    {
     "name": "stdout",
     "output_type": "stream",
     "text": [
      "[[1. 1.]\n",
      " [1. 1.]]\n"
     ]
    },
    {
     "data": {
      "text/plain": [
       "dtype('float64')"
      ]
     },
     "execution_count": 19,
     "metadata": {},
     "output_type": "execute_result"
    }
   ],
   "execution_count": 19
  },
  {
   "metadata": {
    "ExecuteTime": {
     "end_time": "2025-10-17T07:01:48.602368Z",
     "start_time": "2025-10-17T07:01:48.596334Z"
    }
   },
   "cell_type": "code",
   "source": [
    "r = np.full((2, 2), 4)\n",
    "print(r)\n",
    "print(r.dtype)"
   ],
   "id": "6a3592a12fefbccd",
   "outputs": [
    {
     "name": "stdout",
     "output_type": "stream",
     "text": [
      "[[4 4]\n",
      " [4 4]]\n",
      "int64\n"
     ]
    }
   ],
   "execution_count": 20
  },
  {
   "metadata": {
    "ExecuteTime": {
     "end_time": "2025-10-17T07:02:36.835465Z",
     "start_time": "2025-10-17T07:02:36.830903Z"
    }
   },
   "cell_type": "code",
   "source": [
    "s = np.eye(4)\n",
    "print(s)\n",
    "s.dtype"
   ],
   "id": "c7307e755cc05d44",
   "outputs": [
    {
     "name": "stdout",
     "output_type": "stream",
     "text": [
      "[[1. 0. 0. 0.]\n",
      " [0. 1. 0. 0.]\n",
      " [0. 0. 1. 0.]\n",
      " [0. 0. 0. 1.]]\n"
     ]
    },
    {
     "data": {
      "text/plain": [
       "dtype('float64')"
      ]
     },
     "execution_count": 21,
     "metadata": {},
     "output_type": "execute_result"
    }
   ],
   "execution_count": 21
  },
  {
   "metadata": {
    "ExecuteTime": {
     "end_time": "2025-10-17T07:05:13.450557Z",
     "start_time": "2025-10-17T07:05:13.447132Z"
    }
   },
   "cell_type": "code",
   "source": [
    "t = np.random.random((3, 3))\n",
    "print(t)\n",
    "print(t.dtype)"
   ],
   "id": "ecec1dddf517dfd1",
   "outputs": [
    {
     "name": "stdout",
     "output_type": "stream",
     "text": [
      "[[0.79554053 0.85198422 0.0919179 ]\n",
      " [0.18866589 0.30809568 0.73779778]\n",
      " [0.09870301 0.7346335  0.20017671]]\n",
      "float64\n"
     ]
    }
   ],
   "execution_count": 23
  },
  {
   "metadata": {
    "ExecuteTime": {
     "end_time": "2025-10-17T07:07:06.240707Z",
     "start_time": "2025-10-17T07:07:06.236984Z"
    }
   },
   "cell_type": "code",
   "source": [
    "lista2 = [[5, 6], [7, 8]]\n",
    "b = np.array(lista2)\n",
    "print(lista2)\n",
    "print(b)"
   ],
   "id": "395e6632d305cd08",
   "outputs": [
    {
     "name": "stdout",
     "output_type": "stream",
     "text": [
      "[[5, 6], [7, 8]]\n",
      "[[5 6]\n",
      " [7 8]]\n"
     ]
    }
   ],
   "execution_count": 24
  },
  {
   "metadata": {
    "ExecuteTime": {
     "end_time": "2025-10-17T07:08:38.849071Z",
     "start_time": "2025-10-17T07:08:38.845555Z"
    }
   },
   "cell_type": "code",
   "source": [
    "# ravel() - spłąszczenie, zwraca nowy obiekt\n",
    "print(b.ravel())"
   ],
   "id": "3d0c0de40944176c",
   "outputs": [
    {
     "name": "stdout",
     "output_type": "stream",
     "text": [
      "[5 6 7 8]\n"
     ]
    }
   ],
   "execution_count": 25
  },
  {
   "metadata": {
    "ExecuteTime": {
     "end_time": "2025-10-17T07:09:12.573986Z",
     "start_time": "2025-10-17T07:09:12.568770Z"
    }
   },
   "cell_type": "code",
   "source": [
    "# b sie nie zmienia\n",
    "b[0]"
   ],
   "id": "886f5a6470e6ee59",
   "outputs": [
    {
     "data": {
      "text/plain": [
       "array([5, 6])"
      ]
     },
     "execution_count": 26,
     "metadata": {},
     "output_type": "execute_result"
    }
   ],
   "execution_count": 26
  },
  {
   "metadata": {
    "ExecuteTime": {
     "end_time": "2025-10-17T07:09:50.909275Z",
     "start_time": "2025-10-17T07:09:50.905016Z"
    }
   },
   "cell_type": "code",
   "source": [
    "print(b[0, 0])\n",
    "b[0, 1]"
   ],
   "id": "9c895b92888c33f9",
   "outputs": [
    {
     "name": "stdout",
     "output_type": "stream",
     "text": [
      "5\n"
     ]
    },
    {
     "data": {
      "text/plain": [
       "np.int64(6)"
      ]
     },
     "execution_count": 27,
     "metadata": {},
     "output_type": "execute_result"
    }
   ],
   "execution_count": 27
  },
  {
   "metadata": {
    "ExecuteTime": {
     "end_time": "2025-10-17T07:13:24.027738Z",
     "start_time": "2025-10-17T07:13:24.024350Z"
    }
   },
   "cell_type": "code",
   "source": "print(np.float64(21))",
   "id": "c79835e84cae8ad0",
   "outputs": [
    {
     "name": "stdout",
     "output_type": "stream",
     "text": [
      "21.0\n"
     ]
    }
   ],
   "execution_count": 28
  },
  {
   "metadata": {
    "ExecuteTime": {
     "end_time": "2025-10-17T07:13:46.511097Z",
     "start_time": "2025-10-17T07:13:46.507333Z"
    }
   },
   "cell_type": "code",
   "source": "print(np.int64(22.0))",
   "id": "8cd3aee455a23c91",
   "outputs": [
    {
     "name": "stdout",
     "output_type": "stream",
     "text": [
      "22\n"
     ]
    }
   ],
   "execution_count": 29
  },
  {
   "metadata": {
    "ExecuteTime": {
     "end_time": "2025-10-17T07:14:11.109987Z",
     "start_time": "2025-10-17T07:14:11.106043Z"
    }
   },
   "cell_type": "code",
   "source": "print(np.bool(21))",
   "id": "1a761af7e7a97e29",
   "outputs": [
    {
     "name": "stdout",
     "output_type": "stream",
     "text": [
      "True\n"
     ]
    }
   ],
   "execution_count": 30
  },
  {
   "metadata": {
    "ExecuteTime": {
     "end_time": "2025-10-17T07:14:52.926656Z",
     "start_time": "2025-10-17T07:14:52.923718Z"
    }
   },
   "cell_type": "code",
   "source": "print(np.float64(True))",
   "id": "6a6d4d5d60ebb0c6",
   "outputs": [
    {
     "name": "stdout",
     "output_type": "stream",
     "text": [
      "1.0\n"
     ]
    }
   ],
   "execution_count": 31
  },
  {
   "metadata": {
    "ExecuteTime": {
     "end_time": "2025-10-17T07:16:24.773193Z",
     "start_time": "2025-10-17T07:16:24.762858Z"
    }
   },
   "cell_type": "code",
   "source": [
    "arr = np.arange(1, 11, dtype=np.float64)\n",
    "print(arr)"
   ],
   "id": "45dc5239cc0eaa4f",
   "outputs": [
    {
     "name": "stdout",
     "output_type": "stream",
     "text": [
      "[ 1.  2.  3.  4.  5.  6.  7.  8.  9. 10.]\n"
     ]
    }
   ],
   "execution_count": 35
  },
  {
   "metadata": {
    "ExecuteTime": {
     "end_time": "2025-10-17T07:16:45.614270Z",
     "start_time": "2025-10-17T07:16:45.610436Z"
    }
   },
   "cell_type": "code",
   "source": "arr.dtype",
   "id": "c3e0e57f50841700",
   "outputs": [
    {
     "data": {
      "text/plain": [
       "dtype('float64')"
      ]
     },
     "execution_count": 36,
     "metadata": {},
     "output_type": "execute_result"
    }
   ],
   "execution_count": 36
  },
  {
   "metadata": {
    "ExecuteTime": {
     "end_time": "2025-10-17T07:17:59.621159Z",
     "start_time": "2025-10-17T07:17:59.617064Z"
    }
   },
   "cell_type": "code",
   "source": [
    "# reshape() - zmiana kształtu\n",
    "arr = np.arange(12)\n",
    "print(arr)"
   ],
   "id": "bb807e1751eb5aa1",
   "outputs": [
    {
     "name": "stdout",
     "output_type": "stream",
     "text": [
      "[ 0  1  2  3  4  5  6  7  8  9 10 11]\n"
     ]
    }
   ],
   "execution_count": 37
  },
  {
   "metadata": {
    "ExecuteTime": {
     "end_time": "2025-10-17T07:18:22.458785Z",
     "start_time": "2025-10-17T07:18:22.453734Z"
    }
   },
   "cell_type": "code",
   "source": [
    "new_arr = arr.reshape(4, 3)\n",
    "new_arr"
   ],
   "id": "5d380597c6bc7f8f",
   "outputs": [
    {
     "data": {
      "text/plain": [
       "array([[ 0,  1,  2],\n",
       "       [ 3,  4,  5],\n",
       "       [ 6,  7,  8],\n",
       "       [ 9, 10, 11]])"
      ]
     },
     "execution_count": 38,
     "metadata": {},
     "output_type": "execute_result"
    }
   ],
   "execution_count": 38
  },
  {
   "metadata": {
    "ExecuteTime": {
     "end_time": "2025-10-17T07:18:42.384653Z",
     "start_time": "2025-10-17T07:18:42.381231Z"
    }
   },
   "cell_type": "code",
   "source": "print(new_arr)",
   "id": "4746eda5b7c3a6df",
   "outputs": [
    {
     "name": "stdout",
     "output_type": "stream",
     "text": [
      "[[ 0  1  2]\n",
      " [ 3  4  5]\n",
      " [ 6  7  8]\n",
      " [ 9 10 11]]\n"
     ]
    }
   ],
   "execution_count": 39
  },
  {
   "metadata": {
    "ExecuteTime": {
     "end_time": "2025-10-17T07:20:17.970015Z",
     "start_time": "2025-10-17T07:20:17.964521Z"
    }
   },
   "cell_type": "code",
   "source": [
    "new_arr = arr.reshape(3, 4)\n",
    "new_arr"
   ],
   "id": "b5206b0cb65f90eb",
   "outputs": [
    {
     "data": {
      "text/plain": [
       "array([[ 0,  1,  2,  3],\n",
       "       [ 4,  5,  6,  7],\n",
       "       [ 8,  9, 10, 11]])"
      ]
     },
     "execution_count": 40,
     "metadata": {},
     "output_type": "execute_result"
    }
   ],
   "execution_count": 40
  },
  {
   "metadata": {
    "ExecuteTime": {
     "end_time": "2025-10-17T07:20:30.117070Z",
     "start_time": "2025-10-17T07:20:30.113778Z"
    }
   },
   "cell_type": "code",
   "source": "print(new_arr)",
   "id": "d68cbb65fc8f4bc3",
   "outputs": [
    {
     "name": "stdout",
     "output_type": "stream",
     "text": [
      "[[ 0  1  2  3]\n",
      " [ 4  5  6  7]\n",
      " [ 8  9 10 11]]\n"
     ]
    }
   ],
   "execution_count": 41
  },
  {
   "metadata": {
    "ExecuteTime": {
     "end_time": "2025-10-17T07:21:09.376811Z",
     "start_time": "2025-10-17T07:21:09.343062Z"
    }
   },
   "cell_type": "code",
   "source": [
    "new_arr = arr.reshape(3, 5)\n",
    "new_arr"
   ],
   "id": "315ef921bc39eace",
   "outputs": [
    {
     "ename": "ValueError",
     "evalue": "cannot reshape array of size 12 into shape (3,5)",
     "output_type": "error",
     "traceback": [
      "\u001B[31m---------------------------------------------------------------------------\u001B[39m",
      "\u001B[31mValueError\u001B[39m                                Traceback (most recent call last)",
      "\u001B[36mCell\u001B[39m\u001B[36m \u001B[39m\u001B[32mIn[42]\u001B[39m\u001B[32m, line 1\u001B[39m\n\u001B[32m----> \u001B[39m\u001B[32m1\u001B[39m new_arr = \u001B[43marr\u001B[49m\u001B[43m.\u001B[49m\u001B[43mreshape\u001B[49m\u001B[43m(\u001B[49m\u001B[32;43m3\u001B[39;49m\u001B[43m,\u001B[49m\u001B[43m \u001B[49m\u001B[32;43m5\u001B[39;49m\u001B[43m)\u001B[49m\n\u001B[32m      2\u001B[39m new_arr\n",
      "\u001B[31mValueError\u001B[39m: cannot reshape array of size 12 into shape (3,5)"
     ]
    }
   ],
   "execution_count": 42
  },
  {
   "metadata": {
    "ExecuteTime": {
     "end_time": "2025-10-17T07:21:39.408682Z",
     "start_time": "2025-10-17T07:21:39.386475Z"
    }
   },
   "cell_type": "code",
   "source": [
    "new_arr = arr.reshape(3, 3)\n",
    "new_arr"
   ],
   "id": "4bb8da1b63b90e3e",
   "outputs": [
    {
     "ename": "ValueError",
     "evalue": "cannot reshape array of size 12 into shape (3,3)",
     "output_type": "error",
     "traceback": [
      "\u001B[31m---------------------------------------------------------------------------\u001B[39m",
      "\u001B[31mValueError\u001B[39m                                Traceback (most recent call last)",
      "\u001B[36mCell\u001B[39m\u001B[36m \u001B[39m\u001B[32mIn[43]\u001B[39m\u001B[32m, line 1\u001B[39m\n\u001B[32m----> \u001B[39m\u001B[32m1\u001B[39m new_arr = \u001B[43marr\u001B[49m\u001B[43m.\u001B[49m\u001B[43mreshape\u001B[49m\u001B[43m(\u001B[49m\u001B[32;43m3\u001B[39;49m\u001B[43m,\u001B[49m\u001B[43m \u001B[49m\u001B[32;43m3\u001B[39;49m\u001B[43m)\u001B[49m\n\u001B[32m      2\u001B[39m new_arr\n",
      "\u001B[31mValueError\u001B[39m: cannot reshape array of size 12 into shape (3,3)"
     ]
    }
   ],
   "execution_count": 43
  },
  {
   "metadata": {},
   "cell_type": "markdown",
   "source": [
    "ravel() - zwraca widok\n",
    "operacja na \"widoku\" wpływnie na oryginalną tablicę\n",
    "\n",
    "flatten() - zwraca kopię\n",
    "zmiany nie wpłyną na oryginalną tablicę"
   ],
   "id": "947cea17bb978152"
  },
  {
   "metadata": {
    "ExecuteTime": {
     "end_time": "2025-10-17T07:25:00.170026Z",
     "start_time": "2025-10-17T07:25:00.151393Z"
    }
   },
   "cell_type": "code",
   "source": "print(new_arr.ravel())  # widok",
   "id": "4a43b651bcfa7b61",
   "outputs": [
    {
     "name": "stdout",
     "output_type": "stream",
     "text": [
      "[ 0  1  2  3  4  5  6  7  8  9 10 11]\n"
     ]
    }
   ],
   "execution_count": 44
  },
  {
   "metadata": {
    "ExecuteTime": {
     "end_time": "2025-10-17T07:25:18.766944Z",
     "start_time": "2025-10-17T07:25:18.763479Z"
    }
   },
   "cell_type": "code",
   "source": "print(new_arr.flatten())  # kopia",
   "id": "416869291ee20e98",
   "outputs": [
    {
     "name": "stdout",
     "output_type": "stream",
     "text": [
      "[ 0  1  2  3  4  5  6  7  8  9 10 11]\n"
     ]
    }
   ],
   "execution_count": 45
  },
  {
   "metadata": {
    "ExecuteTime": {
     "end_time": "2025-10-17T07:26:31.676666Z",
     "start_time": "2025-10-17T07:26:31.673874Z"
    }
   },
   "cell_type": "code",
   "source": [
    "flat = new_arr.flatten()\n",
    "rav = new_arr.ravel()"
   ],
   "id": "f831f7425f95fb24",
   "outputs": [],
   "execution_count": 46
  },
  {
   "metadata": {
    "ExecuteTime": {
     "end_time": "2025-10-17T07:27:03.873412Z",
     "start_time": "2025-10-17T07:27:03.870608Z"
    }
   },
   "cell_type": "code",
   "source": [
    "flat[0] = 999  # kopia\n",
    "rav[1] = 888  # widok"
   ],
   "id": "2a2ec52d065da2a6",
   "outputs": [],
   "execution_count": 47
  },
  {
   "metadata": {
    "ExecuteTime": {
     "end_time": "2025-10-17T07:27:18.369432Z",
     "start_time": "2025-10-17T07:27:18.366152Z"
    }
   },
   "cell_type": "code",
   "source": "print(new_arr)  # rav[1] zaminiło wartość w oryginalnej tablicy",
   "id": "3d396f052093db08",
   "outputs": [
    {
     "name": "stdout",
     "output_type": "stream",
     "text": [
      "[[  0 888   2   3]\n",
      " [  4   5   6   7]\n",
      " [  8   9  10  11]]\n"
     ]
    }
   ],
   "execution_count": 48
  },
  {
   "metadata": {},
   "cell_type": "markdown",
   "source": [
    "-------\n",
    "### transpose() - zamienia osie"
   ],
   "id": "649643d04d803ed7"
  },
  {
   "metadata": {
    "ExecuteTime": {
     "end_time": "2025-10-17T07:29:16.121752Z",
     "start_time": "2025-10-17T07:29:16.118418Z"
    }
   },
   "cell_type": "code",
   "source": "print(new_arr.transpose())",
   "id": "1486c4feeea28a15",
   "outputs": [
    {
     "name": "stdout",
     "output_type": "stream",
     "text": [
      "[[  0   4   8]\n",
      " [888   5   9]\n",
      " [  2   6  10]\n",
      " [  3   7  11]]\n"
     ]
    }
   ],
   "execution_count": 49
  },
  {
   "metadata": {},
   "cell_type": "markdown",
   "source": [
    "---------\n",
    "### resize() - zmienia rozmiar tablicy\n",
    "zmienia oryginalną tablicę (in-place)\n",
    "brakujące eleemnty uzupełnia zerami"
   ],
   "id": "3b946a0381ab35cc"
  },
  {
   "metadata": {
    "ExecuteTime": {
     "end_time": "2025-10-17T07:31:39.172307Z",
     "start_time": "2025-10-17T07:31:39.168969Z"
    }
   },
   "cell_type": "code",
   "source": [
    "new_arr.resize(1, 12)\n",
    "print(new_arr)"
   ],
   "id": "9df86bc008b8f289",
   "outputs": [
    {
     "name": "stdout",
     "output_type": "stream",
     "text": [
      "[[  0 888   2   3   4   5   6   7   8   9  10  11]]\n"
     ]
    }
   ],
   "execution_count": 50
  },
  {
   "metadata": {
    "ExecuteTime": {
     "end_time": "2025-10-17T07:33:05.800392Z",
     "start_time": "2025-10-17T07:33:05.795802Z"
    }
   },
   "cell_type": "code",
   "source": [
    "arr1 = np.arange(1, 10).reshape(3, 3)\n",
    "print(arr1)"
   ],
   "id": "29b99453f73a5a45",
   "outputs": [
    {
     "name": "stdout",
     "output_type": "stream",
     "text": [
      "[[1 2 3]\n",
      " [4 5 6]\n",
      " [7 8 9]]\n"
     ]
    }
   ],
   "execution_count": 51
  },
  {
   "metadata": {},
   "cell_type": "markdown",
   "source": [
    "### Broadcasting\n",
    "Wykonaje operacje na wszystkich elementach macierzy"
   ],
   "id": "47731742f6982dd3"
  },
  {
   "metadata": {
    "ExecuteTime": {
     "end_time": "2025-10-17T07:36:34.055525Z",
     "start_time": "2025-10-17T07:36:34.051988Z"
    }
   },
   "cell_type": "code",
   "source": [
    "lista = [1, 2, 3]\n",
    "print(2 * lista)"
   ],
   "id": "14ba22a5d64ff383",
   "outputs": [
    {
     "name": "stdout",
     "output_type": "stream",
     "text": [
      "[1, 2, 3, 1, 2, 3]\n"
     ]
    }
   ],
   "execution_count": 52
  },
  {
   "metadata": {
    "ExecuteTime": {
     "end_time": "2025-10-17T07:38:27.931714Z",
     "start_time": "2025-10-17T07:38:27.928467Z"
    }
   },
   "cell_type": "code",
   "source": "print(list(map(lambda x: x * 2, lista)))",
   "id": "1c3390f2038bfb96",
   "outputs": [
    {
     "name": "stdout",
     "output_type": "stream",
     "text": [
      "[2, 4, 6]\n"
     ]
    }
   ],
   "execution_count": 54
  },
  {
   "metadata": {
    "ExecuteTime": {
     "end_time": "2025-10-17T07:37:03.853693Z",
     "start_time": "2025-10-17T07:37:03.848686Z"
    }
   },
   "cell_type": "code",
   "source": [
    "arr2 = 2 * arr1\n",
    "print(arr2)"
   ],
   "id": "1f6ec5e769dbdafc",
   "outputs": [
    {
     "name": "stdout",
     "output_type": "stream",
     "text": [
      "[[ 2  4  6]\n",
      " [ 8 10 12]\n",
      " [14 16 18]]\n"
     ]
    }
   ],
   "execution_count": 53
  },
  {
   "metadata": {
    "ExecuteTime": {
     "end_time": "2025-10-17T07:42:39.234956Z",
     "start_time": "2025-10-17T07:42:39.231807Z"
    }
   },
   "cell_type": "code",
   "source": [
    "arrx = arr1 + arr2\n",
    "print(arrx)"
   ],
   "id": "3d6bfd4a299aa9e1",
   "outputs": [
    {
     "name": "stdout",
     "output_type": "stream",
     "text": [
      "[[ 3  6  9]\n",
      " [12 15 18]\n",
      " [21 24 27]]\n"
     ]
    }
   ],
   "execution_count": 57
  },
  {
   "metadata": {},
   "cell_type": "markdown",
   "source": [
    "## Zasady broadcastingu\n",
    "\n",
    "Wymiary muszą być zgodne\\\n",
    "1. Dwa wymiary są zgodne jeśli:\n",
    "    - są równe, lub jeden z nich ma wymiar 1\n",
    "2. Jeśli nie spełniają tych earunkow -> ValueError"
   ],
   "id": "f17844889fe9ca7f"
  },
  {
   "metadata": {},
   "cell_type": "markdown",
   "source": [
    "------\n",
    "hstack() - skleja tablice poziomo"
   ],
   "id": "6fe04b5f4359f016"
  },
  {
   "metadata": {
    "ExecuteTime": {
     "end_time": "2025-10-17T07:46:12.163978Z",
     "start_time": "2025-10-17T07:46:12.160688Z"
    }
   },
   "cell_type": "code",
   "source": "print(arr1)",
   "id": "424bb0891ec7686b",
   "outputs": [
    {
     "name": "stdout",
     "output_type": "stream",
     "text": [
      "[[1 2 3]\n",
      " [4 5 6]\n",
      " [7 8 9]]\n"
     ]
    }
   ],
   "execution_count": 59
  },
  {
   "metadata": {
    "ExecuteTime": {
     "end_time": "2025-10-17T07:46:19.957823Z",
     "start_time": "2025-10-17T07:46:19.954455Z"
    }
   },
   "cell_type": "code",
   "source": "print(arr2)",
   "id": "b14144ecfa27ed25",
   "outputs": [
    {
     "name": "stdout",
     "output_type": "stream",
     "text": [
      "[[ 2  4  6]\n",
      " [ 8 10 12]\n",
      " [14 16 18]]\n"
     ]
    }
   ],
   "execution_count": 60
  },
  {
   "metadata": {
    "ExecuteTime": {
     "end_time": "2025-10-17T07:45:52.844311Z",
     "start_time": "2025-10-17T07:45:52.840527Z"
    }
   },
   "cell_type": "code",
   "source": [
    "arr3 = np.hstack((arr1, arr2))\n",
    "print(arr3)"
   ],
   "id": "ced3a2619ebea6ac",
   "outputs": [
    {
     "name": "stdout",
     "output_type": "stream",
     "text": [
      "[[ 1  2  3  2  4  6]\n",
      " [ 4  5  6  8 10 12]\n",
      " [ 7  8  9 14 16 18]]\n"
     ]
    }
   ],
   "execution_count": 58
  },
  {
   "metadata": {},
   "cell_type": "markdown",
   "source": [
    "------\n",
    "vstack() - skleja poziomo"
   ],
   "id": "921d7e50fdb625ad"
  },
  {
   "metadata": {
    "ExecuteTime": {
     "end_time": "2025-10-17T07:48:25.999423Z",
     "start_time": "2025-10-17T07:48:25.995934Z"
    }
   },
   "cell_type": "code",
   "source": [
    "arr4 = np.vstack((arr1, arr2))\n",
    "print(arr4)"
   ],
   "id": "af6dd483387883ee",
   "outputs": [
    {
     "name": "stdout",
     "output_type": "stream",
     "text": [
      "[[ 1  2  3]\n",
      " [ 4  5  6]\n",
      " [ 7  8  9]\n",
      " [ 2  4  6]\n",
      " [ 8 10 12]\n",
      " [14 16 18]]\n"
     ]
    }
   ],
   "execution_count": 61
  },
  {
   "metadata": {},
   "cell_type": "markdown",
   "source": [
    "---------\n",
    "concatenate() - sklejanie w wybranej osi"
   ],
   "id": "14b500aed8d71eae"
  },
  {
   "metadata": {
    "ExecuteTime": {
     "end_time": "2025-10-17T07:52:27.666753Z",
     "start_time": "2025-10-17T07:52:27.663167Z"
    }
   },
   "cell_type": "code",
   "source": [
    "arr5 = np.concatenate((arr1, arr2), axis=0)  # wiersze\n",
    "print(arr5)"
   ],
   "id": "ca48957f28f75eb5",
   "outputs": [
    {
     "name": "stdout",
     "output_type": "stream",
     "text": [
      "[[ 1  2  3]\n",
      " [ 4  5  6]\n",
      " [ 7  8  9]\n",
      " [ 2  4  6]\n",
      " [ 8 10 12]\n",
      " [14 16 18]]\n"
     ]
    }
   ],
   "execution_count": 62
  },
  {
   "metadata": {
    "ExecuteTime": {
     "end_time": "2025-10-17T07:53:59.104657Z",
     "start_time": "2025-10-17T07:53:59.100178Z"
    }
   },
   "cell_type": "code",
   "source": [
    "arr6 = np.concatenate((arr1, arr2), axis=1)  # kolumny\n",
    "print(arr6)"
   ],
   "id": "5b1381b75229538d",
   "outputs": [
    {
     "name": "stdout",
     "output_type": "stream",
     "text": [
      "[[ 1  2  3  2  4  6]\n",
      " [ 4  5  6  8 10 12]\n",
      " [ 7  8  9 14 16 18]]\n"
     ]
    }
   ],
   "execution_count": 63
  },
  {
   "metadata": {},
   "cell_type": "markdown",
   "source": [
    "------\n",
    "Tworzy tablicę z sekwencji"
   ],
   "id": "ab8b3e3fabdaa816"
  },
  {
   "metadata": {
    "ExecuteTime": {
     "end_time": "2025-10-17T07:56:25.815175Z",
     "start_time": "2025-10-17T07:56:25.811852Z"
    }
   },
   "cell_type": "code",
   "source": [
    "arre1 = np.array([1, 2, 3])\n",
    "print(arre1)"
   ],
   "id": "9bac19e102dd4c2f",
   "outputs": [
    {
     "name": "stdout",
     "output_type": "stream",
     "text": [
      "[1 2 3]\n"
     ]
    }
   ],
   "execution_count": 64
  },
  {
   "metadata": {
    "ExecuteTime": {
     "end_time": "2025-10-17T07:57:04.671315Z",
     "start_time": "2025-10-17T07:57:04.666784Z"
    }
   },
   "cell_type": "code",
   "source": [
    "arre2 = np.array([4, 5, 6])\n",
    "print(arre2)"
   ],
   "id": "fc1ff0cea4fdace1",
   "outputs": [
    {
     "name": "stdout",
     "output_type": "stream",
     "text": [
      "[4 5 6]\n"
     ]
    }
   ],
   "execution_count": 65
  },
  {
   "metadata": {
    "ExecuteTime": {
     "end_time": "2025-10-17T07:59:19.290947Z",
     "start_time": "2025-10-17T07:59:19.273717Z"
    }
   },
   "cell_type": "code",
   "source": "np.concatenate((arre1, arre2), axis=0)",
   "id": "813aea95d931ee6c",
   "outputs": [
    {
     "data": {
      "text/plain": [
       "array([1, 2, 3, 4, 5, 6])"
      ]
     },
     "execution_count": 67,
     "metadata": {},
     "output_type": "execute_result"
    }
   ],
   "execution_count": 67
  },
  {
   "metadata": {
    "ExecuteTime": {
     "end_time": "2025-10-17T07:59:35.247491Z",
     "start_time": "2025-10-17T07:59:35.216836Z"
    }
   },
   "cell_type": "code",
   "source": "np.concatenate((arre1, arre2), axis=1)",
   "id": "22bb4a92937563e7",
   "outputs": [
    {
     "ename": "AxisError",
     "evalue": "axis 1 is out of bounds for array of dimension 1",
     "output_type": "error",
     "traceback": [
      "\u001B[31m---------------------------------------------------------------------------\u001B[39m",
      "\u001B[31mAxisError\u001B[39m                                 Traceback (most recent call last)",
      "\u001B[36mCell\u001B[39m\u001B[36m \u001B[39m\u001B[32mIn[68]\u001B[39m\u001B[32m, line 1\u001B[39m\n\u001B[32m----> \u001B[39m\u001B[32m1\u001B[39m \u001B[43mnp\u001B[49m\u001B[43m.\u001B[49m\u001B[43mconcatenate\u001B[49m\u001B[43m(\u001B[49m\u001B[43m(\u001B[49m\u001B[43marre1\u001B[49m\u001B[43m,\u001B[49m\u001B[43m \u001B[49m\u001B[43marre2\u001B[49m\u001B[43m)\u001B[49m\u001B[43m,\u001B[49m\u001B[43m \u001B[49m\u001B[43maxis\u001B[49m\u001B[43m=\u001B[49m\u001B[32;43m1\u001B[39;49m\u001B[43m)\u001B[49m\n",
      "\u001B[31mAxisError\u001B[39m: axis 1 is out of bounds for array of dimension 1"
     ]
    }
   ],
   "execution_count": 68
  },
  {
   "metadata": {
    "ExecuteTime": {
     "end_time": "2025-10-17T08:00:18.227400Z",
     "start_time": "2025-10-17T08:00:18.221282Z"
    }
   },
   "cell_type": "code",
   "source": [
    "print(arre1)\n",
    "print(arre1.shape)"
   ],
   "id": "4816c02cf6e22e38",
   "outputs": [
    {
     "name": "stdout",
     "output_type": "stream",
     "text": [
      "[1 2 3]\n",
      "(3,)\n"
     ]
    }
   ],
   "execution_count": 69
  },
  {
   "metadata": {
    "ExecuteTime": {
     "end_time": "2025-10-17T08:01:31.263959Z",
     "start_time": "2025-10-17T08:01:31.260751Z"
    }
   },
   "cell_type": "code",
   "source": [
    "print(arre2)\n",
    "print(arre2.shape)"
   ],
   "id": "eb7eaeb593992c06",
   "outputs": [
    {
     "name": "stdout",
     "output_type": "stream",
     "text": [
      "[4 5 6]\n",
      "(3,)\n"
     ]
    }
   ],
   "execution_count": 71
  },
  {
   "metadata": {},
   "cell_type": "markdown",
   "source": [
    "-------\n",
    "dstack() - skleja tablice  w głąb, dodaje trzeci wymiar"
   ],
   "id": "503f1eec8917d7dd"
  },
  {
   "metadata": {
    "ExecuteTime": {
     "end_time": "2025-10-17T08:02:43.481394Z",
     "start_time": "2025-10-17T08:02:43.475285Z"
    }
   },
   "cell_type": "code",
   "source": [
    "arr7 = np.dstack((arr1, arr2))\n",
    "print(arr7)"
   ],
   "id": "a608b08970976605",
   "outputs": [
    {
     "name": "stdout",
     "output_type": "stream",
     "text": [
      "[[[ 1  2]\n",
      "  [ 2  4]\n",
      "  [ 3  6]]\n",
      "\n",
      " [[ 4  8]\n",
      "  [ 5 10]\n",
      "  [ 6 12]]\n",
      "\n",
      " [[ 7 14]\n",
      "  [ 8 16]\n",
      "  [ 9 18]]]\n"
     ]
    }
   ],
   "execution_count": 72
  },
  {
   "metadata": {},
   "cell_type": "markdown",
   "source": [
    "--------\n",
    "column_stack - skleja jako kolumny"
   ],
   "id": "d33b8014042dfde2"
  },
  {
   "metadata": {
    "ExecuteTime": {
     "end_time": "2025-10-17T08:06:38.730719Z",
     "start_time": "2025-10-17T08:06:38.717080Z"
    }
   },
   "cell_type": "code",
   "source": [
    "arr8 = np.arange(4, 7)\n",
    "print(arr8)"
   ],
   "id": "fb901b3aeb06ba7f",
   "outputs": [
    {
     "name": "stdout",
     "output_type": "stream",
     "text": [
      "[4 5 6]\n"
     ]
    }
   ],
   "execution_count": 73
  },
  {
   "metadata": {
    "ExecuteTime": {
     "end_time": "2025-10-17T08:06:59.384763Z",
     "start_time": "2025-10-17T08:06:59.330715Z"
    }
   },
   "cell_type": "code",
   "source": [
    "arr9 = 2 * arr8\n",
    "print(arr9)"
   ],
   "id": "2d7cf5f676722e2c",
   "outputs": [
    {
     "name": "stdout",
     "output_type": "stream",
     "text": [
      "[ 8 10 12]\n"
     ]
    }
   ],
   "execution_count": 74
  },
  {
   "metadata": {
    "ExecuteTime": {
     "end_time": "2025-10-17T08:08:10.245853Z",
     "start_time": "2025-10-17T08:08:10.236145Z"
    }
   },
   "cell_type": "code",
   "source": [
    "arr_col_stack = np.column_stack((arr8, arr9))\n",
    "print(arr_col_stack)"
   ],
   "id": "361a2c6e41d529f0",
   "outputs": [
    {
     "name": "stdout",
     "output_type": "stream",
     "text": [
      "[[ 4  8]\n",
      " [ 5 10]\n",
      " [ 6 12]]\n"
     ]
    }
   ],
   "execution_count": 75
  },
  {
   "metadata": {},
   "cell_type": "markdown",
   "source": [
    "------\n",
    "row_stack() - jako wiersze"
   ],
   "id": "3ee235f1e29f1d67"
  },
  {
   "metadata": {
    "ExecuteTime": {
     "end_time": "2025-10-17T08:10:29.694138Z",
     "start_time": "2025-10-17T08:10:29.682016Z"
    }
   },
   "cell_type": "code",
   "source": [
    "arr_row_stack = np.row_stack((arr8, arr9))\n",
    "print(arr_row_stack)"
   ],
   "id": "59fa9392932e924a",
   "outputs": [
    {
     "name": "stdout",
     "output_type": "stream",
     "text": [
      "[[ 4  5  6]\n",
      " [ 8 10 12]]\n"
     ]
    },
    {
     "name": "stderr",
     "output_type": "stream",
     "text": [
      "C:\\Users\\CSComarch\\AppData\\Local\\Temp\\ipykernel_15036\\2282068895.py:1: DeprecationWarning: `row_stack` alias is deprecated. Use `np.vstack` directly.\n",
      "  arr_row_stack = np.row_stack((arr8, arr9))\n"
     ]
    }
   ],
   "execution_count": 76
  },
  {
   "metadata": {
    "ExecuteTime": {
     "end_time": "2025-10-17T08:12:59.106736Z",
     "start_time": "2025-10-17T08:12:59.102634Z"
    }
   },
   "cell_type": "code",
   "source": [
    "result_vstack = np.vstack((arr8, arr9))\n",
    "print(result_vstack)"
   ],
   "id": "5fcdc7b04880a72",
   "outputs": [
    {
     "name": "stdout",
     "output_type": "stream",
     "text": [
      "[[ 4  5  6]\n",
      " [ 8 10 12]]\n"
     ]
    }
   ],
   "execution_count": 77
  },
  {
   "metadata": {},
   "cell_type": "markdown",
   "source": [
    "---------\n",
    "hsplit() - dzieli w poziomie"
   ],
   "id": "dfbca915a77e01ef"
  },
  {
   "metadata": {
    "ExecuteTime": {
     "end_time": "2025-10-17T08:15:24.657341Z",
     "start_time": "2025-10-17T08:15:24.653155Z"
    }
   },
   "cell_type": "code",
   "source": [
    "arr10 = np.arange(1, 10).reshape(3, 3)\n",
    "print(arr10)"
   ],
   "id": "1e28e68606eb3c43",
   "outputs": [
    {
     "name": "stdout",
     "output_type": "stream",
     "text": [
      "[[1 2 3]\n",
      " [4 5 6]\n",
      " [7 8 9]]\n"
     ]
    }
   ],
   "execution_count": 78
  },
  {
   "metadata": {
    "ExecuteTime": {
     "end_time": "2025-10-17T08:16:10.276662Z",
     "start_time": "2025-10-17T08:16:10.270243Z"
    }
   },
   "cell_type": "code",
   "source": [
    "arr_split = np.hsplit(arr10, 3)\n",
    "print(arr_split)"
   ],
   "id": "9844c79d031b74ab",
   "outputs": [
    {
     "name": "stdout",
     "output_type": "stream",
     "text": [
      "[array([[1],\n",
      "       [4],\n",
      "       [7]]), array([[2],\n",
      "       [5],\n",
      "       [8]]), array([[3],\n",
      "       [6],\n",
      "       [9]])]\n"
     ]
    }
   ],
   "execution_count": 79
  },
  {
   "metadata": {},
   "cell_type": "markdown",
   "source": [
    "-------\n",
    "vsplit - dzieli na wiersze"
   ],
   "id": "eb1039a44d1bf55e"
  },
  {
   "metadata": {
    "ExecuteTime": {
     "end_time": "2025-10-17T08:17:30.501462Z",
     "start_time": "2025-10-17T08:17:30.497203Z"
    }
   },
   "cell_type": "code",
   "source": [
    "arr_v_split = np.vsplit(arr10, 3)\n",
    "print(arr_v_split)"
   ],
   "id": "e4bb885f25d9a62f",
   "outputs": [
    {
     "name": "stdout",
     "output_type": "stream",
     "text": [
      "[array([[1, 2, 3]]), array([[4, 5, 6]]), array([[7, 8, 9]])]\n"
     ]
    }
   ],
   "execution_count": 80
  },
  {
   "metadata": {
    "ExecuteTime": {
     "end_time": "2025-10-17T08:18:10.907716Z",
     "start_time": "2025-10-17T08:18:10.894071Z"
    }
   },
   "cell_type": "code",
   "source": "arr_v_split",
   "id": "819931204dbeafe",
   "outputs": [
    {
     "data": {
      "text/plain": [
       "[array([[1, 2, 3]]), array([[4, 5, 6]]), array([[7, 8, 9]])]"
      ]
     },
     "execution_count": 81,
     "metadata": {},
     "output_type": "execute_result"
    }
   ],
   "execution_count": 81
  },
  {
   "metadata": {
    "ExecuteTime": {
     "end_time": "2025-10-17T08:19:32.090009Z",
     "start_time": "2025-10-17T08:19:32.082935Z"
    }
   },
   "cell_type": "code",
   "source": [
    "arr11 = np.arange(1, 10).reshape(3, 3)\n",
    "print(\"Tablicy w typie integer:\", arr1.dtype)"
   ],
   "id": "e49e80c936a51601",
   "outputs": [
    {
     "name": "stdout",
     "output_type": "stream",
     "text": [
      "Tablicy w typie integer: int64\n"
     ]
    }
   ],
   "execution_count": 82
  },
  {
   "metadata": {
    "ExecuteTime": {
     "end_time": "2025-10-17T08:21:00.120425Z",
     "start_time": "2025-10-17T08:21:00.095761Z"
    }
   },
   "cell_type": "code",
   "source": [
    "# konwersja tablicy na inny typ\n",
    "# tworzy nową tablicę\n",
    "arr12 = arr1.astype(float)\n",
    "print(\"Zmieniony typ na:\", arr12.dtype)"
   ],
   "id": "77600adc2b843054",
   "outputs": [
    {
     "name": "stdout",
     "output_type": "stream",
     "text": [
      "Zmieniony typ na: float64\n"
     ]
    }
   ],
   "execution_count": 83
  },
  {
   "metadata": {
    "ExecuteTime": {
     "end_time": "2025-10-17T08:22:41.866144Z",
     "start_time": "2025-10-17T08:22:41.862081Z"
    }
   },
   "cell_type": "code",
   "source": [
    "# zamiana na liste pythonową\n",
    "list1 = arr1.tolist()\n",
    "print(\"Lista pythonowa:\", list1)\n",
    "print(\"Typ listy:\", type(list1))"
   ],
   "id": "ed75234d446b21fc",
   "outputs": [
    {
     "name": "stdout",
     "output_type": "stream",
     "text": [
      "Lista pythonowa: [[1, 2, 3], [4, 5, 6], [7, 8, 9]]\n",
      "Typ listy: <class 'list'>\n"
     ]
    }
   ],
   "execution_count": 84
  },
  {
   "metadata": {},
   "cell_type": "markdown",
   "source": [
    "------\n",
    "copy() - kopia listy"
   ],
   "id": "7ea819963bd52adf"
  },
  {
   "metadata": {
    "ExecuteTime": {
     "end_time": "2025-10-17T08:24:15.881286Z",
     "start_time": "2025-10-17T08:24:15.876008Z"
    }
   },
   "cell_type": "code",
   "source": [
    "arr13 = np.arange(1, 5).reshape(2, 2)\n",
    "print(arr13)"
   ],
   "id": "fa282d0a9c0e292e",
   "outputs": [
    {
     "name": "stdout",
     "output_type": "stream",
     "text": [
      "[[1 2]\n",
      " [3 4]]\n"
     ]
    }
   ],
   "execution_count": 85
  }
 ],
 "metadata": {
  "kernelspec": {
   "display_name": "Python 3",
   "language": "python",
   "name": "python3"
  },
  "language_info": {
   "codemirror_mode": {
    "name": "ipython",
    "version": 2
   },
   "file_extension": ".py",
   "mimetype": "text/x-python",
   "name": "python",
   "nbconvert_exporter": "python",
   "pygments_lexer": "ipython2",
   "version": "2.7.6"
  }
 },
 "nbformat": 4,
 "nbformat_minor": 5
}
