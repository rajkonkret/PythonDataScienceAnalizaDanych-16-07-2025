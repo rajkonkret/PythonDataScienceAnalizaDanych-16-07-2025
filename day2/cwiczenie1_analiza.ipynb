{
 "cells": [
  {
   "metadata": {},
   "cell_type": "markdown",
   "source": [
    "Początek progrmu\\\n",
    "**pogrubiony tekst**\\\n",
    "Nowa linia\n",
    "\n",
    "# Nowa Sekcja\n",
    "## Nowa sekcja\n",
    "### Nowa sekcja"
   ],
   "id": "43ffc82819e8d032"
  },
  {
   "cell_type": "code",
   "id": "initial_id",
   "metadata": {
    "collapsed": true,
    "ExecuteTime": {
     "end_time": "2025-10-17T06:34:30.551331Z",
     "start_time": "2025-10-17T06:34:30.539110Z"
    }
   },
   "source": "print('Witaj w notatniku...')",
   "outputs": [
    {
     "name": "stdout",
     "output_type": "stream",
     "text": [
      "Witaj w notatniku...\n"
     ]
    }
   ],
   "execution_count": 1
  },
  {
   "metadata": {
    "ExecuteTime": {
     "end_time": "2025-10-17T06:35:15.729215Z",
     "start_time": "2025-10-17T06:35:15.693806Z"
    }
   },
   "cell_type": "code",
   "source": [
    "a = 5\n",
    "b = 6"
   ],
   "id": "3ba8408a2cd894c6",
   "outputs": [],
   "execution_count": 2
  },
  {
   "metadata": {
    "ExecuteTime": {
     "end_time": "2025-10-17T06:35:34.987101Z",
     "start_time": "2025-10-17T06:35:34.974903Z"
    }
   },
   "cell_type": "code",
   "source": "print(a, b)",
   "id": "6637a2f661a267aa",
   "outputs": [
    {
     "name": "stdout",
     "output_type": "stream",
     "text": [
      "5 6\n"
     ]
    }
   ],
   "execution_count": 3
  },
  {
   "metadata": {
    "ExecuteTime": {
     "end_time": "2025-10-17T06:35:52.872556Z",
     "start_time": "2025-10-17T06:35:52.860286Z"
    }
   },
   "cell_type": "code",
   "source": "a",
   "id": "646571257e57312a",
   "outputs": [
    {
     "data": {
      "text/plain": [
       "5"
      ]
     },
     "execution_count": 4,
     "metadata": {},
     "output_type": "execute_result"
    }
   ],
   "execution_count": 4
  },
  {
   "metadata": {},
   "cell_type": "code",
   "outputs": [],
   "execution_count": null,
   "source": "c = 9",
   "id": "995da90031d96568"
  },
  {
   "metadata": {},
   "cell_type": "markdown",
   "source": "Celowo nie uruchamiam komórki c = 9",
   "id": "995d68a5feab9893"
  },
  {
   "metadata": {
    "ExecuteTime": {
     "end_time": "2025-10-17T06:36:48.487485Z",
     "start_time": "2025-10-17T06:36:48.462898Z"
    }
   },
   "cell_type": "code",
   "source": "print(c)",
   "id": "d1e82ac7375ac961",
   "outputs": [
    {
     "ename": "NameError",
     "evalue": "name 'c' is not defined",
     "output_type": "error",
     "traceback": [
      "\u001B[31m---------------------------------------------------------------------------\u001B[39m",
      "\u001B[31mNameError\u001B[39m                                 Traceback (most recent call last)",
      "\u001B[36mCell\u001B[39m\u001B[36m \u001B[39m\u001B[32mIn[6]\u001B[39m\u001B[32m, line 1\u001B[39m\n\u001B[32m----> \u001B[39m\u001B[32m1\u001B[39m \u001B[38;5;28mprint\u001B[39m(\u001B[43mc\u001B[49m)\n",
      "\u001B[31mNameError\u001B[39m: name 'c' is not defined"
     ]
    }
   ],
   "execution_count": 6
  }
 ],
 "metadata": {
  "kernelspec": {
   "display_name": "Python 3",
   "language": "python",
   "name": "python3"
  },
  "language_info": {
   "codemirror_mode": {
    "name": "ipython",
    "version": 2
   },
   "file_extension": ".py",
   "mimetype": "text/x-python",
   "name": "python",
   "nbconvert_exporter": "python",
   "pygments_lexer": "ipython2",
   "version": "2.7.6"
  }
 },
 "nbformat": 4,
 "nbformat_minor": 5
}
