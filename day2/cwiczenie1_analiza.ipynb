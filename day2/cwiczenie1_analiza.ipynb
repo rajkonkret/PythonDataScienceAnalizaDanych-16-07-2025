{
 "cells": [
  {
   "metadata": {},
   "cell_type": "markdown",
   "source": [
    "Początek progrmu\\\n",
    "**pogrubiony tekst**\\\n",
    "Nowa linia\n",
    "\n",
    "# Nowa Sekcja\n",
    "## Nowa sekcja\n",
    "### Nowa sekcja"
   ],
   "id": "43ffc82819e8d032"
  },
  {
   "cell_type": "code",
   "id": "initial_id",
   "metadata": {
    "collapsed": true,
    "ExecuteTime": {
     "end_time": "2025-10-17T06:34:30.551331Z",
     "start_time": "2025-10-17T06:34:30.539110Z"
    }
   },
   "source": "print('Witaj w notatniku...')",
   "outputs": [
    {
     "name": "stdout",
     "output_type": "stream",
     "text": [
      "Witaj w notatniku...\n"
     ]
    }
   ],
   "execution_count": 1
  },
  {
   "metadata": {
    "ExecuteTime": {
     "end_time": "2025-10-17T06:35:15.729215Z",
     "start_time": "2025-10-17T06:35:15.693806Z"
    }
   },
   "cell_type": "code",
   "source": [
    "a = 5\n",
    "b = 6"
   ],
   "id": "3ba8408a2cd894c6",
   "outputs": [],
   "execution_count": 2
  },
  {
   "metadata": {
    "ExecuteTime": {
     "end_time": "2025-10-17T06:35:34.987101Z",
     "start_time": "2025-10-17T06:35:34.974903Z"
    }
   },
   "cell_type": "code",
   "source": "print(a, b)",
   "id": "6637a2f661a267aa",
   "outputs": [
    {
     "name": "stdout",
     "output_type": "stream",
     "text": [
      "5 6\n"
     ]
    }
   ],
   "execution_count": 3
  },
  {
   "metadata": {
    "ExecuteTime": {
     "end_time": "2025-10-17T06:35:52.872556Z",
     "start_time": "2025-10-17T06:35:52.860286Z"
    }
   },
   "cell_type": "code",
   "source": "a",
   "id": "646571257e57312a",
   "outputs": [
    {
     "data": {
      "text/plain": [
       "5"
      ]
     },
     "execution_count": 4,
     "metadata": {},
     "output_type": "execute_result"
    }
   ],
   "execution_count": 4
  },
  {
   "metadata": {},
   "cell_type": "code",
   "outputs": [],
   "execution_count": null,
   "source": "c = 9",
   "id": "995da90031d96568"
  },
  {
   "metadata": {},
   "cell_type": "markdown",
   "source": "Celowo nie uruchamiam komórki c = 9",
   "id": "995d68a5feab9893"
  },
  {
   "metadata": {
    "ExecuteTime": {
     "end_time": "2025-10-17T06:36:48.487485Z",
     "start_time": "2025-10-17T06:36:48.462898Z"
    }
   },
   "cell_type": "code",
   "source": "print(c)",
   "id": "d1e82ac7375ac961",
   "outputs": [
    {
     "ename": "NameError",
     "evalue": "name 'c' is not defined",
     "output_type": "error",
     "traceback": [
      "\u001B[31m---------------------------------------------------------------------------\u001B[39m",
      "\u001B[31mNameError\u001B[39m                                 Traceback (most recent call last)",
      "\u001B[36mCell\u001B[39m\u001B[36m \u001B[39m\u001B[32mIn[6]\u001B[39m\u001B[32m, line 1\u001B[39m\n\u001B[32m----> \u001B[39m\u001B[32m1\u001B[39m \u001B[38;5;28mprint\u001B[39m(\u001B[43mc\u001B[49m)\n",
      "\u001B[31mNameError\u001B[39m: name 'c' is not defined"
     ]
    }
   ],
   "execution_count": 6
  },
  {
   "metadata": {},
   "cell_type": "markdown",
   "source": [
    "# Biblioteka NumPy\n",
    "\n",
    "Napisana w C do szybkich operacji na danych tablicowych\\\n",
    "Podstawowy element ndarray"
   ],
   "id": "66e3978e73b1bf"
  },
  {
   "metadata": {
    "ExecuteTime": {
     "end_time": "2025-10-17T06:51:15.268085Z",
     "start_time": "2025-10-17T06:51:04.105215Z"
    }
   },
   "cell_type": "code",
   "source": "!pip install numpy",
   "id": "1bd3202067ca62a1",
   "outputs": [
    {
     "name": "stdout",
     "output_type": "stream",
     "text": [
      "Collecting numpy\n",
      "  Downloading numpy-2.3.4-cp313-cp313-win_amd64.whl.metadata (60 kB)\n",
      "Downloading numpy-2.3.4-cp313-cp313-win_amd64.whl (12.8 MB)\n",
      "   ---------------------------------------- 0.0/12.8 MB ? eta -:--:--\n",
      "   ---------------------------------------  12.6/12.8 MB 91.2 MB/s eta 0:00:01\n",
      "   ---------------------------------------- 12.8/12.8 MB 47.5 MB/s eta 0:00:00\n",
      "Installing collected packages: numpy\n",
      "Successfully installed numpy-2.3.4\n"
     ]
    },
    {
     "name": "stderr",
     "output_type": "stream",
     "text": [
      "\n",
      "[notice] A new release of pip is available: 25.1.1 -> 25.2\n",
      "[notice] To update, run: python.exe -m pip install --upgrade pip\n"
     ]
    }
   ],
   "execution_count": 7
  },
  {
   "metadata": {
    "ExecuteTime": {
     "end_time": "2025-10-17T06:52:10.732202Z",
     "start_time": "2025-10-17T06:52:10.063650Z"
    }
   },
   "cell_type": "code",
   "source": "import numpy as np",
   "id": "c1cef7f90be93f5f",
   "outputs": [],
   "execution_count": 8
  },
  {
   "metadata": {
    "ExecuteTime": {
     "end_time": "2025-10-17T06:52:40.253653Z",
     "start_time": "2025-10-17T06:52:40.250510Z"
    }
   },
   "cell_type": "code",
   "source": "print(np.__version__)",
   "id": "f5023331ca3d75dd",
   "outputs": [
    {
     "name": "stdout",
     "output_type": "stream",
     "text": [
      "2.3.4\n"
     ]
    }
   ],
   "execution_count": 9
  },
  {
   "metadata": {
    "ExecuteTime": {
     "end_time": "2025-10-17T06:53:13.297425Z",
     "start_time": "2025-10-17T06:53:13.293562Z"
    }
   },
   "cell_type": "code",
   "source": [
    "lista = [2, 4, 6, 8, 10]\n",
    "lista"
   ],
   "id": "8ec0def2bf561a61",
   "outputs": [
    {
     "data": {
      "text/plain": [
       "[2, 4, 6, 8, 10]"
      ]
     },
     "execution_count": 10,
     "metadata": {},
     "output_type": "execute_result"
    }
   ],
   "execution_count": 10
  },
  {
   "metadata": {
    "ExecuteTime": {
     "end_time": "2025-10-17T06:53:32.192557Z",
     "start_time": "2025-10-17T06:53:32.188203Z"
    }
   },
   "cell_type": "code",
   "source": [
    "a = np.array(lista)\n",
    "a"
   ],
   "id": "ce8c2d44ca054dd0",
   "outputs": [
    {
     "data": {
      "text/plain": [
       "array([ 2,  4,  6,  8, 10])"
      ]
     },
     "execution_count": 11,
     "metadata": {},
     "output_type": "execute_result"
    }
   ],
   "execution_count": 11
  },
  {
   "metadata": {
    "ExecuteTime": {
     "end_time": "2025-10-17T06:54:33.550335Z",
     "start_time": "2025-10-17T06:54:33.545412Z"
    }
   },
   "cell_type": "code",
   "source": "a.dtype",
   "id": "e7b2bafd4d73f4f1",
   "outputs": [
    {
     "data": {
      "text/plain": [
       "dtype('int64')"
      ]
     },
     "execution_count": 13,
     "metadata": {},
     "output_type": "execute_result"
    }
   ],
   "execution_count": 13
  },
  {
   "metadata": {},
   "cell_type": "markdown",
   "source": "int64 - 8 bajtów",
   "id": "2dadf51246fc1ba8"
  },
  {
   "metadata": {
    "ExecuteTime": {
     "end_time": "2025-10-17T06:55:46.730761Z",
     "start_time": "2025-10-17T06:55:46.726924Z"
    }
   },
   "cell_type": "code",
   "source": "type(a)",
   "id": "35d8d897447546f9",
   "outputs": [
    {
     "data": {
      "text/plain": [
       "numpy.ndarray"
      ]
     },
     "execution_count": 14,
     "metadata": {},
     "output_type": "execute_result"
    }
   ],
   "execution_count": 14
  },
  {
   "metadata": {
    "ExecuteTime": {
     "end_time": "2025-10-17T06:56:11.383771Z",
     "start_time": "2025-10-17T06:56:11.380004Z"
    }
   },
   "cell_type": "code",
   "source": "a.shape  # kształt",
   "id": "72830c622d43a0d5",
   "outputs": [
    {
     "data": {
      "text/plain": [
       "(5,)"
      ]
     },
     "execution_count": 15,
     "metadata": {},
     "output_type": "execute_result"
    }
   ],
   "execution_count": 15
  },
  {
   "metadata": {
    "ExecuteTime": {
     "end_time": "2025-10-17T06:57:32.205117Z",
     "start_time": "2025-10-17T06:57:32.200594Z"
    }
   },
   "cell_type": "code",
   "source": [
    "p = np.zeros((3, 3))\n",
    "p"
   ],
   "id": "cc3053c5badb80cd",
   "outputs": [
    {
     "data": {
      "text/plain": [
       "array([[0., 0., 0.],\n",
       "       [0., 0., 0.],\n",
       "       [0., 0., 0.]])"
      ]
     },
     "execution_count": 16,
     "metadata": {},
     "output_type": "execute_result"
    }
   ],
   "execution_count": 16
  },
  {
   "metadata": {
    "ExecuteTime": {
     "end_time": "2025-10-17T06:58:23.074408Z",
     "start_time": "2025-10-17T06:58:23.070466Z"
    }
   },
   "cell_type": "code",
   "source": "print(p)",
   "id": "5940be35a3e664ce",
   "outputs": [
    {
     "name": "stdout",
     "output_type": "stream",
     "text": [
      "[[0. 0. 0.]\n",
      " [0. 0. 0.]\n",
      " [0. 0. 0.]]\n"
     ]
    }
   ],
   "execution_count": 17
  },
  {
   "metadata": {
    "ExecuteTime": {
     "end_time": "2025-10-17T06:59:43.667782Z",
     "start_time": "2025-10-17T06:59:43.664559Z"
    }
   },
   "cell_type": "code",
   "source": "print(p.dtype)",
   "id": "8a2265662ab87099",
   "outputs": [
    {
     "name": "stdout",
     "output_type": "stream",
     "text": [
      "float64\n"
     ]
    }
   ],
   "execution_count": 18
  },
  {
   "metadata": {
    "ExecuteTime": {
     "end_time": "2025-10-17T07:00:49.247829Z",
     "start_time": "2025-10-17T07:00:49.241244Z"
    }
   },
   "cell_type": "code",
   "source": [
    "q = np.ones((2, 2))\n",
    "print(q)\n",
    "q.dtype"
   ],
   "id": "24b53d470ad2643f",
   "outputs": [
    {
     "name": "stdout",
     "output_type": "stream",
     "text": [
      "[[1. 1.]\n",
      " [1. 1.]]\n"
     ]
    },
    {
     "data": {
      "text/plain": [
       "dtype('float64')"
      ]
     },
     "execution_count": 19,
     "metadata": {},
     "output_type": "execute_result"
    }
   ],
   "execution_count": 19
  },
  {
   "metadata": {
    "ExecuteTime": {
     "end_time": "2025-10-17T07:01:48.602368Z",
     "start_time": "2025-10-17T07:01:48.596334Z"
    }
   },
   "cell_type": "code",
   "source": [
    "r = np.full((2, 2), 4)\n",
    "print(r)\n",
    "print(r.dtype)"
   ],
   "id": "6a3592a12fefbccd",
   "outputs": [
    {
     "name": "stdout",
     "output_type": "stream",
     "text": [
      "[[4 4]\n",
      " [4 4]]\n",
      "int64\n"
     ]
    }
   ],
   "execution_count": 20
  },
  {
   "metadata": {
    "ExecuteTime": {
     "end_time": "2025-10-17T07:02:36.835465Z",
     "start_time": "2025-10-17T07:02:36.830903Z"
    }
   },
   "cell_type": "code",
   "source": [
    "s = np.eye(4)\n",
    "print(s)\n",
    "s.dtype"
   ],
   "id": "c7307e755cc05d44",
   "outputs": [
    {
     "name": "stdout",
     "output_type": "stream",
     "text": [
      "[[1. 0. 0. 0.]\n",
      " [0. 1. 0. 0.]\n",
      " [0. 0. 1. 0.]\n",
      " [0. 0. 0. 1.]]\n"
     ]
    },
    {
     "data": {
      "text/plain": [
       "dtype('float64')"
      ]
     },
     "execution_count": 21,
     "metadata": {},
     "output_type": "execute_result"
    }
   ],
   "execution_count": 21
  },
  {
   "metadata": {
    "ExecuteTime": {
     "end_time": "2025-10-17T07:05:13.450557Z",
     "start_time": "2025-10-17T07:05:13.447132Z"
    }
   },
   "cell_type": "code",
   "source": [
    "t = np.random.random((3, 3))\n",
    "print(t)\n",
    "print(t.dtype)"
   ],
   "id": "ecec1dddf517dfd1",
   "outputs": [
    {
     "name": "stdout",
     "output_type": "stream",
     "text": [
      "[[0.79554053 0.85198422 0.0919179 ]\n",
      " [0.18866589 0.30809568 0.73779778]\n",
      " [0.09870301 0.7346335  0.20017671]]\n",
      "float64\n"
     ]
    }
   ],
   "execution_count": 23
  },
  {
   "metadata": {
    "ExecuteTime": {
     "end_time": "2025-10-17T07:07:06.240707Z",
     "start_time": "2025-10-17T07:07:06.236984Z"
    }
   },
   "cell_type": "code",
   "source": [
    "lista2 = [[5, 6], [7, 8]]\n",
    "b = np.array(lista2)\n",
    "print(lista2)\n",
    "print(b)"
   ],
   "id": "395e6632d305cd08",
   "outputs": [
    {
     "name": "stdout",
     "output_type": "stream",
     "text": [
      "[[5, 6], [7, 8]]\n",
      "[[5 6]\n",
      " [7 8]]\n"
     ]
    }
   ],
   "execution_count": 24
  },
  {
   "metadata": {
    "ExecuteTime": {
     "end_time": "2025-10-17T07:08:38.849071Z",
     "start_time": "2025-10-17T07:08:38.845555Z"
    }
   },
   "cell_type": "code",
   "source": [
    "# ravel() - spłąszczenie, zwraca nowy obiekt\n",
    "print(b.ravel())"
   ],
   "id": "3d0c0de40944176c",
   "outputs": [
    {
     "name": "stdout",
     "output_type": "stream",
     "text": [
      "[5 6 7 8]\n"
     ]
    }
   ],
   "execution_count": 25
  },
  {
   "metadata": {
    "ExecuteTime": {
     "end_time": "2025-10-17T07:09:12.573986Z",
     "start_time": "2025-10-17T07:09:12.568770Z"
    }
   },
   "cell_type": "code",
   "source": [
    "# b sie nie zmienia\n",
    "b[0]"
   ],
   "id": "886f5a6470e6ee59",
   "outputs": [
    {
     "data": {
      "text/plain": [
       "array([5, 6])"
      ]
     },
     "execution_count": 26,
     "metadata": {},
     "output_type": "execute_result"
    }
   ],
   "execution_count": 26
  },
  {
   "metadata": {
    "ExecuteTime": {
     "end_time": "2025-10-17T07:09:50.909275Z",
     "start_time": "2025-10-17T07:09:50.905016Z"
    }
   },
   "cell_type": "code",
   "source": [
    "print(b[0, 0])\n",
    "b[0, 1]"
   ],
   "id": "9c895b92888c33f9",
   "outputs": [
    {
     "name": "stdout",
     "output_type": "stream",
     "text": [
      "5\n"
     ]
    },
    {
     "data": {
      "text/plain": [
       "np.int64(6)"
      ]
     },
     "execution_count": 27,
     "metadata": {},
     "output_type": "execute_result"
    }
   ],
   "execution_count": 27
  },
  {
   "metadata": {
    "ExecuteTime": {
     "end_time": "2025-10-17T07:13:24.027738Z",
     "start_time": "2025-10-17T07:13:24.024350Z"
    }
   },
   "cell_type": "code",
   "source": "print(np.float64(21))",
   "id": "c79835e84cae8ad0",
   "outputs": [
    {
     "name": "stdout",
     "output_type": "stream",
     "text": [
      "21.0\n"
     ]
    }
   ],
   "execution_count": 28
  },
  {
   "metadata": {
    "ExecuteTime": {
     "end_time": "2025-10-17T07:13:46.511097Z",
     "start_time": "2025-10-17T07:13:46.507333Z"
    }
   },
   "cell_type": "code",
   "source": "print(np.int64(22.0))",
   "id": "8cd3aee455a23c91",
   "outputs": [
    {
     "name": "stdout",
     "output_type": "stream",
     "text": [
      "22\n"
     ]
    }
   ],
   "execution_count": 29
  },
  {
   "metadata": {
    "ExecuteTime": {
     "end_time": "2025-10-17T07:14:11.109987Z",
     "start_time": "2025-10-17T07:14:11.106043Z"
    }
   },
   "cell_type": "code",
   "source": "print(np.bool(21))",
   "id": "1a761af7e7a97e29",
   "outputs": [
    {
     "name": "stdout",
     "output_type": "stream",
     "text": [
      "True\n"
     ]
    }
   ],
   "execution_count": 30
  },
  {
   "metadata": {
    "ExecuteTime": {
     "end_time": "2025-10-17T07:14:52.926656Z",
     "start_time": "2025-10-17T07:14:52.923718Z"
    }
   },
   "cell_type": "code",
   "source": "print(np.float64(True))",
   "id": "6a6d4d5d60ebb0c6",
   "outputs": [
    {
     "name": "stdout",
     "output_type": "stream",
     "text": [
      "1.0\n"
     ]
    }
   ],
   "execution_count": 31
  },
  {
   "metadata": {
    "ExecuteTime": {
     "end_time": "2025-10-17T07:16:24.773193Z",
     "start_time": "2025-10-17T07:16:24.762858Z"
    }
   },
   "cell_type": "code",
   "source": [
    "arr = np.arange(1, 11, dtype=np.float64)\n",
    "print(arr)"
   ],
   "id": "45dc5239cc0eaa4f",
   "outputs": [
    {
     "name": "stdout",
     "output_type": "stream",
     "text": [
      "[ 1.  2.  3.  4.  5.  6.  7.  8.  9. 10.]\n"
     ]
    }
   ],
   "execution_count": 35
  },
  {
   "metadata": {
    "ExecuteTime": {
     "end_time": "2025-10-17T07:16:45.614270Z",
     "start_time": "2025-10-17T07:16:45.610436Z"
    }
   },
   "cell_type": "code",
   "source": "arr.dtype",
   "id": "c3e0e57f50841700",
   "outputs": [
    {
     "data": {
      "text/plain": [
       "dtype('float64')"
      ]
     },
     "execution_count": 36,
     "metadata": {},
     "output_type": "execute_result"
    }
   ],
   "execution_count": 36
  },
  {
   "metadata": {
    "ExecuteTime": {
     "end_time": "2025-10-17T07:17:59.621159Z",
     "start_time": "2025-10-17T07:17:59.617064Z"
    }
   },
   "cell_type": "code",
   "source": [
    "# reshape() - zmiana kształtu\n",
    "arr = np.arange(12)\n",
    "print(arr)"
   ],
   "id": "bb807e1751eb5aa1",
   "outputs": [
    {
     "name": "stdout",
     "output_type": "stream",
     "text": [
      "[ 0  1  2  3  4  5  6  7  8  9 10 11]\n"
     ]
    }
   ],
   "execution_count": 37
  },
  {
   "metadata": {
    "ExecuteTime": {
     "end_time": "2025-10-17T07:18:22.458785Z",
     "start_time": "2025-10-17T07:18:22.453734Z"
    }
   },
   "cell_type": "code",
   "source": [
    "new_arr = arr.reshape(4, 3)\n",
    "new_arr"
   ],
   "id": "5d380597c6bc7f8f",
   "outputs": [
    {
     "data": {
      "text/plain": [
       "array([[ 0,  1,  2],\n",
       "       [ 3,  4,  5],\n",
       "       [ 6,  7,  8],\n",
       "       [ 9, 10, 11]])"
      ]
     },
     "execution_count": 38,
     "metadata": {},
     "output_type": "execute_result"
    }
   ],
   "execution_count": 38
  },
  {
   "metadata": {
    "ExecuteTime": {
     "end_time": "2025-10-17T07:18:42.384653Z",
     "start_time": "2025-10-17T07:18:42.381231Z"
    }
   },
   "cell_type": "code",
   "source": "print(new_arr)",
   "id": "4746eda5b7c3a6df",
   "outputs": [
    {
     "name": "stdout",
     "output_type": "stream",
     "text": [
      "[[ 0  1  2]\n",
      " [ 3  4  5]\n",
      " [ 6  7  8]\n",
      " [ 9 10 11]]\n"
     ]
    }
   ],
   "execution_count": 39
  },
  {
   "metadata": {
    "ExecuteTime": {
     "end_time": "2025-10-17T07:20:17.970015Z",
     "start_time": "2025-10-17T07:20:17.964521Z"
    }
   },
   "cell_type": "code",
   "source": [
    "new_arr = arr.reshape(3, 4)\n",
    "new_arr"
   ],
   "id": "b5206b0cb65f90eb",
   "outputs": [
    {
     "data": {
      "text/plain": [
       "array([[ 0,  1,  2,  3],\n",
       "       [ 4,  5,  6,  7],\n",
       "       [ 8,  9, 10, 11]])"
      ]
     },
     "execution_count": 40,
     "metadata": {},
     "output_type": "execute_result"
    }
   ],
   "execution_count": 40
  },
  {
   "metadata": {
    "ExecuteTime": {
     "end_time": "2025-10-17T07:20:30.117070Z",
     "start_time": "2025-10-17T07:20:30.113778Z"
    }
   },
   "cell_type": "code",
   "source": "print(new_arr)",
   "id": "d68cbb65fc8f4bc3",
   "outputs": [
    {
     "name": "stdout",
     "output_type": "stream",
     "text": [
      "[[ 0  1  2  3]\n",
      " [ 4  5  6  7]\n",
      " [ 8  9 10 11]]\n"
     ]
    }
   ],
   "execution_count": 41
  },
  {
   "metadata": {
    "ExecuteTime": {
     "end_time": "2025-10-17T07:21:09.376811Z",
     "start_time": "2025-10-17T07:21:09.343062Z"
    }
   },
   "cell_type": "code",
   "source": [
    "new_arr = arr.reshape(3, 5)\n",
    "new_arr"
   ],
   "id": "315ef921bc39eace",
   "outputs": [
    {
     "ename": "ValueError",
     "evalue": "cannot reshape array of size 12 into shape (3,5)",
     "output_type": "error",
     "traceback": [
      "\u001B[31m---------------------------------------------------------------------------\u001B[39m",
      "\u001B[31mValueError\u001B[39m                                Traceback (most recent call last)",
      "\u001B[36mCell\u001B[39m\u001B[36m \u001B[39m\u001B[32mIn[42]\u001B[39m\u001B[32m, line 1\u001B[39m\n\u001B[32m----> \u001B[39m\u001B[32m1\u001B[39m new_arr = \u001B[43marr\u001B[49m\u001B[43m.\u001B[49m\u001B[43mreshape\u001B[49m\u001B[43m(\u001B[49m\u001B[32;43m3\u001B[39;49m\u001B[43m,\u001B[49m\u001B[43m \u001B[49m\u001B[32;43m5\u001B[39;49m\u001B[43m)\u001B[49m\n\u001B[32m      2\u001B[39m new_arr\n",
      "\u001B[31mValueError\u001B[39m: cannot reshape array of size 12 into shape (3,5)"
     ]
    }
   ],
   "execution_count": 42
  },
  {
   "metadata": {
    "ExecuteTime": {
     "end_time": "2025-10-17T07:21:39.408682Z",
     "start_time": "2025-10-17T07:21:39.386475Z"
    }
   },
   "cell_type": "code",
   "source": [
    "new_arr = arr.reshape(3, 3)\n",
    "new_arr"
   ],
   "id": "4bb8da1b63b90e3e",
   "outputs": [
    {
     "ename": "ValueError",
     "evalue": "cannot reshape array of size 12 into shape (3,3)",
     "output_type": "error",
     "traceback": [
      "\u001B[31m---------------------------------------------------------------------------\u001B[39m",
      "\u001B[31mValueError\u001B[39m                                Traceback (most recent call last)",
      "\u001B[36mCell\u001B[39m\u001B[36m \u001B[39m\u001B[32mIn[43]\u001B[39m\u001B[32m, line 1\u001B[39m\n\u001B[32m----> \u001B[39m\u001B[32m1\u001B[39m new_arr = \u001B[43marr\u001B[49m\u001B[43m.\u001B[49m\u001B[43mreshape\u001B[49m\u001B[43m(\u001B[49m\u001B[32;43m3\u001B[39;49m\u001B[43m,\u001B[49m\u001B[43m \u001B[49m\u001B[32;43m3\u001B[39;49m\u001B[43m)\u001B[49m\n\u001B[32m      2\u001B[39m new_arr\n",
      "\u001B[31mValueError\u001B[39m: cannot reshape array of size 12 into shape (3,3)"
     ]
    }
   ],
   "execution_count": 43
  }
 ],
 "metadata": {
  "kernelspec": {
   "display_name": "Python 3",
   "language": "python",
   "name": "python3"
  },
  "language_info": {
   "codemirror_mode": {
    "name": "ipython",
    "version": 2
   },
   "file_extension": ".py",
   "mimetype": "text/x-python",
   "name": "python",
   "nbconvert_exporter": "python",
   "pygments_lexer": "ipython2",
   "version": "2.7.6"
  }
 },
 "nbformat": 4,
 "nbformat_minor": 5
}
