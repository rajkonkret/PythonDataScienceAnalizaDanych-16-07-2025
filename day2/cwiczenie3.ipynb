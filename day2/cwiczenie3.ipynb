{
 "cells": [
  {
   "metadata": {},
   "cell_type": "markdown",
   "source": [
    "# Pandas\n",
    "\n",
    "Najpopularniejsze biblioteka w Pythonie stosowane do analizy i przetwarzania danych\\\n",
    "posłuuje sie tzw.: **DataFrame**, **Series**"
   ],
   "id": "3bc05b3bdf18a02d"
  },
  {
   "cell_type": "code",
   "id": "initial_id",
   "metadata": {
    "collapsed": true,
    "ExecuteTime": {
     "end_time": "2025-10-17T10:21:20.171536Z",
     "start_time": "2025-10-17T10:21:18.523720Z"
    }
   },
   "source": "!pip install pandas",
   "outputs": [
    {
     "name": "stdout",
     "output_type": "stream",
     "text": [
      "Requirement already satisfied: pandas in c:\\users\\cscomarch\\pycharmprojects\\pythondatascienceanalizadanych-16-07-2025\\.venv\\lib\\site-packages (2.3.3)\n",
      "Requirement already satisfied: numpy>=1.26.0 in c:\\users\\cscomarch\\pycharmprojects\\pythondatascienceanalizadanych-16-07-2025\\.venv\\lib\\site-packages (from pandas) (2.3.4)\n",
      "Requirement already satisfied: python-dateutil>=2.8.2 in c:\\users\\cscomarch\\pycharmprojects\\pythondatascienceanalizadanych-16-07-2025\\.venv\\lib\\site-packages (from pandas) (2.9.0.post0)\n",
      "Requirement already satisfied: pytz>=2020.1 in c:\\users\\cscomarch\\pycharmprojects\\pythondatascienceanalizadanych-16-07-2025\\.venv\\lib\\site-packages (from pandas) (2025.2)\n",
      "Requirement already satisfied: tzdata>=2022.7 in c:\\users\\cscomarch\\pycharmprojects\\pythondatascienceanalizadanych-16-07-2025\\.venv\\lib\\site-packages (from pandas) (2025.2)\n",
      "Requirement already satisfied: six>=1.5 in c:\\users\\cscomarch\\pycharmprojects\\pythondatascienceanalizadanych-16-07-2025\\.venv\\lib\\site-packages (from python-dateutil>=2.8.2->pandas) (1.17.0)\n"
     ]
    },
    {
     "name": "stderr",
     "output_type": "stream",
     "text": [
      "\n",
      "[notice] A new release of pip is available: 25.1.1 -> 25.2\n",
      "[notice] To update, run: python.exe -m pip install --upgrade pip\n"
     ]
    }
   ],
   "execution_count": 8
  },
  {
   "metadata": {
    "ExecuteTime": {
     "end_time": "2025-10-17T10:21:21.353427Z",
     "start_time": "2025-10-17T10:21:20.244911Z"
    }
   },
   "cell_type": "code",
   "source": [
    "import pandas as pd\n",
    "\n",
    "print(pd.__version__)"
   ],
   "id": "5f97ecdb3eb058ed",
   "outputs": [
    {
     "name": "stdout",
     "output_type": "stream",
     "text": [
      "2.3.3\n"
     ]
    }
   ],
   "execution_count": 9
  },
  {
   "metadata": {
    "ExecuteTime": {
     "end_time": "2025-10-17T10:21:22.162368Z",
     "start_time": "2025-10-17T10:21:21.383477Z"
    }
   },
   "cell_type": "code",
   "source": "!pip list",
   "id": "668715cf4b18fd23",
   "outputs": [
    {
     "name": "stdout",
     "output_type": "stream",
     "text": [
      "Package                   Version\n",
      "------------------------- --------------\n",
      "anyio                     4.11.0\n",
      "argon2-cffi               25.1.0\n",
      "argon2-cffi-bindings      25.1.0\n",
      "arrow                     1.3.0\n",
      "asttokens                 3.0.0\n",
      "async-lru                 2.0.5\n",
      "attrs                     25.4.0\n",
      "babel                     2.17.0\n",
      "beautifulsoup4            4.14.2\n",
      "bleach                    6.2.0\n",
      "certifi                   2025.10.5\n",
      "cffi                      2.0.0\n",
      "charset-normalizer        3.4.4\n",
      "colorama                  0.4.6\n",
      "comm                      0.2.3\n",
      "contourpy                 1.3.3\n",
      "cycler                    0.12.1\n",
      "debugpy                   1.8.17\n",
      "decorator                 5.2.1\n",
      "defusedxml                0.7.1\n",
      "et_xmlfile                2.0.0\n",
      "executing                 2.2.1\n",
      "fastjsonschema            2.21.2\n",
      "fonttools                 4.60.1\n",
      "fqdn                      1.5.1\n",
      "h11                       0.16.0\n",
      "httpcore                  1.0.9\n",
      "httpx                     0.28.1\n",
      "idna                      3.11\n",
      "ipykernel                 7.0.1\n",
      "ipython                   9.6.0\n",
      "ipython_pygments_lexers   1.1.1\n",
      "isoduration               20.11.0\n",
      "jedi                      0.19.2\n",
      "Jinja2                    3.1.6\n",
      "json5                     0.12.1\n",
      "jsonpointer               3.0.0\n",
      "jsonschema                4.25.1\n",
      "jsonschema-specifications 2025.9.1\n",
      "jupyter_client            8.6.3\n",
      "jupyter_core              5.9.1\n",
      "jupyter-events            0.12.0\n",
      "jupyter-lsp               2.3.0\n",
      "jupyter_server            2.17.0\n",
      "jupyter_server_terminals  0.5.3\n",
      "jupyterlab                4.4.9\n",
      "jupyterlab_pygments       0.3.0\n",
      "jupyterlab_server         2.27.3\n",
      "kiwisolver                1.4.9\n",
      "lark                      1.3.0\n",
      "MarkupSafe                3.0.3\n",
      "matplotlib                3.10.7\n",
      "matplotlib-inline         0.1.7\n",
      "mistune                   3.1.4\n",
      "nbclient                  0.10.2\n",
      "nbconvert                 7.16.6\n",
      "nbformat                  5.10.4\n",
      "nest-asyncio              1.6.0\n",
      "notebook                  7.4.7\n",
      "notebook_shim             0.2.4\n",
      "numpy                     2.3.4\n",
      "openpyxl                  3.1.5\n",
      "packaging                 25.0\n",
      "pandas                    2.3.3\n",
      "pandocfilters             1.5.1\n",
      "parso                     0.8.5\n",
      "pillow                    12.0.0\n",
      "pip                       25.1.1\n",
      "platformdirs              4.5.0\n",
      "prometheus_client         0.23.1\n",
      "prompt_toolkit            3.0.52\n",
      "psutil                    7.1.0\n",
      "pure_eval                 0.2.3\n",
      "pycparser                 2.23\n",
      "Pygments                  2.19.2\n",
      "pyparsing                 3.2.5\n",
      "python-dateutil           2.9.0.post0\n",
      "python-json-logger        4.0.0\n",
      "pytz                      2025.2\n",
      "pywinpty                  3.0.2\n",
      "PyYAML                    6.0.3\n",
      "pyzmq                     27.1.0\n",
      "referencing               0.37.0\n",
      "requests                  2.32.5\n",
      "rfc3339-validator         0.1.4\n",
      "rfc3986-validator         0.1.1\n",
      "rfc3987-syntax            1.1.0\n",
      "rpds-py                   0.27.1\n",
      "Send2Trash                1.8.3\n",
      "setuptools                80.9.0\n",
      "six                       1.17.0\n",
      "sniffio                   1.3.1\n",
      "soupsieve                 2.8\n",
      "stack-data                0.6.3\n",
      "terminado                 0.18.1\n",
      "tinycss2                  1.4.0\n",
      "tornado                   6.5.2\n",
      "traitlets                 5.14.3\n",
      "types-python-dateutil     2.9.0.20251008\n",
      "typing_extensions         4.15.0\n",
      "tzdata                    2025.2\n",
      "uri-template              1.3.0\n",
      "urllib3                   2.5.0\n",
      "wcwidth                   0.2.14\n",
      "webcolors                 24.11.1\n",
      "webencodings              0.5.1\n",
      "websocket-client          1.9.0\n"
     ]
    }
   ],
   "execution_count": 10
  },
  {
   "metadata": {
    "ExecuteTime": {
     "end_time": "2025-10-17T10:21:22.172950Z",
     "start_time": "2025-10-17T10:21:22.170058Z"
    }
   },
   "cell_type": "code",
   "source": [
    "product_data = {\n",
    "    \"product a\": [13, 20, 0, 10],\n",
    "    \"product b\": [10, 30, 17, 10],\n",
    "    \"product c\": [6, 9, 10, 0],\n",
    "}"
   ],
   "id": "83236ed49b8a5ca6",
   "outputs": [],
   "execution_count": 11
  },
  {
   "metadata": {
    "ExecuteTime": {
     "end_time": "2025-10-17T10:21:22.197365Z",
     "start_time": "2025-10-17T10:21:22.190050Z"
    }
   },
   "cell_type": "code",
   "source": "product_data",
   "id": "abdc7bdf40623e32",
   "outputs": [
    {
     "data": {
      "text/plain": [
       "{'product a': [13, 20, 0, 10],\n",
       " 'product b': [10, 30, 17, 10],\n",
       " 'product c': [6, 9, 10, 0]}"
      ]
     },
     "execution_count": 12,
     "metadata": {},
     "output_type": "execute_result"
    }
   ],
   "execution_count": 12
  },
  {
   "metadata": {
    "ExecuteTime": {
     "end_time": "2025-10-17T10:21:22.227808Z",
     "start_time": "2025-10-17T10:21:22.224035Z"
    }
   },
   "cell_type": "code",
   "source": "miasta = [\"Kielce\", \"Poznań\", \"Warszawa\", \"Kraków\"]",
   "id": "bafb1037bd78c90a",
   "outputs": [],
   "execution_count": 13
  },
  {
   "metadata": {
    "ExecuteTime": {
     "end_time": "2025-10-17T10:21:22.243848Z",
     "start_time": "2025-10-17T10:21:22.235568Z"
    }
   },
   "cell_type": "code",
   "source": [
    "# tworzymy DataFrame (tabele)\n",
    "data = pd.DataFrame(product_data, index=miasta)"
   ],
   "id": "86cd15f1fe6ee8b3",
   "outputs": [],
   "execution_count": 14
  },
  {
   "metadata": {
    "ExecuteTime": {
     "end_time": "2025-10-17T10:21:22.280377Z",
     "start_time": "2025-10-17T10:21:22.258801Z"
    }
   },
   "cell_type": "code",
   "source": "data",
   "id": "fd1e112116493386",
   "outputs": [
    {
     "data": {
      "text/plain": [
       "          product a  product b  product c\n",
       "Kielce           13         10          6\n",
       "Poznań           20         30          9\n",
       "Warszawa          0         17         10\n",
       "Kraków           10         10          0"
      ],
      "text/html": [
       "<div>\n",
       "<style scoped>\n",
       "    .dataframe tbody tr th:only-of-type {\n",
       "        vertical-align: middle;\n",
       "    }\n",
       "\n",
       "    .dataframe tbody tr th {\n",
       "        vertical-align: top;\n",
       "    }\n",
       "\n",
       "    .dataframe thead th {\n",
       "        text-align: right;\n",
       "    }\n",
       "</style>\n",
       "<table border=\"1\" class=\"dataframe\">\n",
       "  <thead>\n",
       "    <tr style=\"text-align: right;\">\n",
       "      <th></th>\n",
       "      <th>product a</th>\n",
       "      <th>product b</th>\n",
       "      <th>product c</th>\n",
       "    </tr>\n",
       "  </thead>\n",
       "  <tbody>\n",
       "    <tr>\n",
       "      <th>Kielce</th>\n",
       "      <td>13</td>\n",
       "      <td>10</td>\n",
       "      <td>6</td>\n",
       "    </tr>\n",
       "    <tr>\n",
       "      <th>Poznań</th>\n",
       "      <td>20</td>\n",
       "      <td>30</td>\n",
       "      <td>9</td>\n",
       "    </tr>\n",
       "    <tr>\n",
       "      <th>Warszawa</th>\n",
       "      <td>0</td>\n",
       "      <td>17</td>\n",
       "      <td>10</td>\n",
       "    </tr>\n",
       "    <tr>\n",
       "      <th>Kraków</th>\n",
       "      <td>10</td>\n",
       "      <td>10</td>\n",
       "      <td>0</td>\n",
       "    </tr>\n",
       "  </tbody>\n",
       "</table>\n",
       "</div>"
      ]
     },
     "execution_count": 15,
     "metadata": {},
     "output_type": "execute_result"
    }
   ],
   "execution_count": 15
  },
  {
   "metadata": {
    "ExecuteTime": {
     "end_time": "2025-10-17T10:21:22.317279Z",
     "start_time": "2025-10-17T10:21:22.311223Z"
    }
   },
   "cell_type": "code",
   "source": "print(data)",
   "id": "190d4b1900733072",
   "outputs": [
    {
     "name": "stdout",
     "output_type": "stream",
     "text": [
      "          product a  product b  product c\n",
      "Kielce           13         10          6\n",
      "Poznań           20         30          9\n",
      "Warszawa          0         17         10\n",
      "Kraków           10         10          0\n"
     ]
    }
   ],
   "execution_count": 16
  },
  {
   "metadata": {},
   "cell_type": "markdown",
   "source": [
    "-----------\n",
    "Matplotlib - wykresy"
   ],
   "id": "9cad336a184c9faa"
  },
  {
   "metadata": {},
   "cell_type": "markdown",
   "source": "",
   "id": "3f183e1a817e86d0"
  },
  {
   "metadata": {
    "ExecuteTime": {
     "end_time": "2025-10-17T10:21:24.142132Z",
     "start_time": "2025-10-17T10:21:22.386256Z"
    }
   },
   "cell_type": "code",
   "source": "!pip install matplotlib",
   "id": "b6eb03cfd94ae1c5",
   "outputs": [
    {
     "name": "stdout",
     "output_type": "stream",
     "text": [
      "Requirement already satisfied: matplotlib in c:\\users\\cscomarch\\pycharmprojects\\pythondatascienceanalizadanych-16-07-2025\\.venv\\lib\\site-packages (3.10.7)\n",
      "Requirement already satisfied: contourpy>=1.0.1 in c:\\users\\cscomarch\\pycharmprojects\\pythondatascienceanalizadanych-16-07-2025\\.venv\\lib\\site-packages (from matplotlib) (1.3.3)\n",
      "Requirement already satisfied: cycler>=0.10 in c:\\users\\cscomarch\\pycharmprojects\\pythondatascienceanalizadanych-16-07-2025\\.venv\\lib\\site-packages (from matplotlib) (0.12.1)\n",
      "Requirement already satisfied: fonttools>=4.22.0 in c:\\users\\cscomarch\\pycharmprojects\\pythondatascienceanalizadanych-16-07-2025\\.venv\\lib\\site-packages (from matplotlib) (4.60.1)\n",
      "Requirement already satisfied: kiwisolver>=1.3.1 in c:\\users\\cscomarch\\pycharmprojects\\pythondatascienceanalizadanych-16-07-2025\\.venv\\lib\\site-packages (from matplotlib) (1.4.9)\n",
      "Requirement already satisfied: numpy>=1.23 in c:\\users\\cscomarch\\pycharmprojects\\pythondatascienceanalizadanych-16-07-2025\\.venv\\lib\\site-packages (from matplotlib) (2.3.4)\n",
      "Requirement already satisfied: packaging>=20.0 in c:\\users\\cscomarch\\pycharmprojects\\pythondatascienceanalizadanych-16-07-2025\\.venv\\lib\\site-packages (from matplotlib) (25.0)\n",
      "Requirement already satisfied: pillow>=8 in c:\\users\\cscomarch\\pycharmprojects\\pythondatascienceanalizadanych-16-07-2025\\.venv\\lib\\site-packages (from matplotlib) (12.0.0)\n",
      "Requirement already satisfied: pyparsing>=3 in c:\\users\\cscomarch\\pycharmprojects\\pythondatascienceanalizadanych-16-07-2025\\.venv\\lib\\site-packages (from matplotlib) (3.2.5)\n",
      "Requirement already satisfied: python-dateutil>=2.7 in c:\\users\\cscomarch\\pycharmprojects\\pythondatascienceanalizadanych-16-07-2025\\.venv\\lib\\site-packages (from matplotlib) (2.9.0.post0)\n",
      "Requirement already satisfied: six>=1.5 in c:\\users\\cscomarch\\pycharmprojects\\pythondatascienceanalizadanych-16-07-2025\\.venv\\lib\\site-packages (from python-dateutil>=2.7->matplotlib) (1.17.0)\n"
     ]
    },
    {
     "name": "stderr",
     "output_type": "stream",
     "text": [
      "\n",
      "[notice] A new release of pip is available: 25.1.1 -> 25.2\n",
      "[notice] To update, run: python.exe -m pip install --upgrade pip\n"
     ]
    }
   ],
   "execution_count": 17
  },
  {
   "metadata": {
    "ExecuteTime": {
     "end_time": "2025-10-17T10:21:25.729195Z",
     "start_time": "2025-10-17T10:21:24.213037Z"
    }
   },
   "cell_type": "code",
   "source": "from matplotlib import pyplot as plt",
   "id": "bfdbefdacbf92784",
   "outputs": [],
   "execution_count": 18
  },
  {
   "metadata": {
    "ExecuteTime": {
     "end_time": "2025-10-17T10:21:26.034550Z",
     "start_time": "2025-10-17T10:21:25.754907Z"
    }
   },
   "cell_type": "code",
   "source": [
    "data['product b'].plot(kind=\"hist\", bins=30, title=\"product b\")\n",
    "plt.gca().spines[['top', 'right',]].set_visible(False)"
   ],
   "id": "d1554c83d199cd06",
   "outputs": [
    {
     "data": {
      "text/plain": [
       "<Figure size 640x480 with 1 Axes>"
      ],
      "image/png": "[encoded data removed]"
     },
     "metadata": {},
     "output_type": "display_data",
     "jetTransient": {
      "display_id": null
     }
    }
   ],
   "execution_count": 19
  },
  {
   "metadata": {
    "ExecuteTime": {
     "end_time": "2025-10-17T10:21:26.050933Z",
     "start_time": "2025-10-17T10:21:26.045820Z"
    }
   },
   "cell_type": "code",
   "source": "data.loc[\"Warszawa\"] > 10 # sprawdzamy większe niż 10",
   "id": "b2bd81edd97ecd3d",
   "outputs": [
    {
     "data": {
      "text/plain": [
       "product a    False\n",
       "product b     True\n",
       "product c    False\n",
       "Name: Warszawa, dtype: bool"
      ]
     },
     "execution_count": 20,
     "metadata": {},
     "output_type": "execute_result"
    }
   ],
   "execution_count": 20
  },
  {
   "metadata": {
    "ExecuteTime": {
     "end_time": "2025-10-17T10:21:26.140713Z",
     "start_time": "2025-10-17T10:21:26.124128Z"
    }
   },
   "cell_type": "code",
   "source": "df = pd.read_csv('AAPL_stock_price_example.csv')",
   "id": "ad0398089d0214f0",
   "outputs": [],
   "execution_count": 21
  },
  {
   "metadata": {
    "ExecuteTime": {
     "end_time": "2025-10-17T10:21:26.264512Z",
     "start_time": "2025-10-17T10:21:26.244592Z"
    }
   },
   "cell_type": "code",
   "source": "df",
   "id": "9035259373314a71",
   "outputs": [
    {
     "data": {
      "text/plain": [
       "           Date       Close\n",
       "0    2019-01-02  157.919998\n",
       "1    2019-01-03  142.190002\n",
       "2    2019-01-04  148.259995\n",
       "3    2019-01-07  147.929993\n",
       "4    2019-01-08  150.750000\n",
       "..          ...         ...\n",
       "224  2019-11-20  263.190002\n",
       "225  2019-11-21  262.010010\n",
       "226  2019-11-22  261.779999\n",
       "227  2019-11-25  266.369995\n",
       "228  2019-11-26  264.290009\n",
       "\n",
       "[229 rows x 2 columns]"
      ],
      "text/html": [
       "<div>\n",
       "<style scoped>\n",
       "    .dataframe tbody tr th:only-of-type {\n",
       "        vertical-align: middle;\n",
       "    }\n",
       "\n",
       "    .dataframe tbody tr th {\n",
       "        vertical-align: top;\n",
       "    }\n",
       "\n",
       "    .dataframe thead th {\n",
       "        text-align: right;\n",
       "    }\n",
       "</style>\n",
       "<table border=\"1\" class=\"dataframe\">\n",
       "  <thead>\n",
       "    <tr style=\"text-align: right;\">\n",
       "      <th></th>\n",
       "      <th>Date</th>\n",
       "      <th>Close</th>\n",
       "    </tr>\n",
       "  </thead>\n",
       "  <tbody>\n",
       "    <tr>\n",
       "      <th>0</th>\n",
       "      <td>2019-01-02</td>\n",
       "      <td>157.919998</td>\n",
       "    </tr>\n",
       "    <tr>\n",
       "      <th>1</th>\n",
       "      <td>2019-01-03</td>\n",
       "      <td>142.190002</td>\n",
       "    </tr>\n",
       "    <tr>\n",
       "      <th>2</th>\n",
       "      <td>2019-01-04</td>\n",
       "      <td>148.259995</td>\n",
       "    </tr>\n",
       "    <tr>\n",
       "      <th>3</th>\n",
       "      <td>2019-01-07</td>\n",
       "      <td>147.929993</td>\n",
       "    </tr>\n",
       "    <tr>\n",
       "      <th>4</th>\n",
       "      <td>2019-01-08</td>\n",
       "      <td>150.750000</td>\n",
       "    </tr>\n",
       "    <tr>\n",
       "      <th>...</th>\n",
       "      <td>...</td>\n",
       "      <td>...</td>\n",
       "    </tr>\n",
       "    <tr>\n",
       "      <th>224</th>\n",
       "      <td>2019-11-20</td>\n",
       "      <td>263.190002</td>\n",
       "    </tr>\n",
       "    <tr>\n",
       "      <th>225</th>\n",
       "      <td>2019-11-21</td>\n",
       "      <td>262.010010</td>\n",
       "    </tr>\n",
       "    <tr>\n",
       "      <th>226</th>\n",
       "      <td>2019-11-22</td>\n",
       "      <td>261.779999</td>\n",
       "    </tr>\n",
       "    <tr>\n",
       "      <th>227</th>\n",
       "      <td>2019-11-25</td>\n",
       "      <td>266.369995</td>\n",
       "    </tr>\n",
       "    <tr>\n",
       "      <th>228</th>\n",
       "      <td>2019-11-26</td>\n",
       "      <td>264.290009</td>\n",
       "    </tr>\n",
       "  </tbody>\n",
       "</table>\n",
       "<p>229 rows × 2 columns</p>\n",
       "</div>"
      ]
     },
     "execution_count": 22,
     "metadata": {},
     "output_type": "execute_result"
    }
   ],
   "execution_count": 22
  },
  {
   "metadata": {
    "ExecuteTime": {
     "end_time": "2025-10-17T10:21:26.349470Z",
     "start_time": "2025-10-17T10:21:26.337272Z"
    }
   },
   "cell_type": "code",
   "source": "df.describe()",
   "id": "c75b0b079381d42f",
   "outputs": [
    {
     "data": {
      "text/plain": [
       "            Close\n",
       "count  229.000000\n",
       "mean   201.477598\n",
       "std     28.246961\n",
       "min    142.190002\n",
       "25%    182.539993\n",
       "50%    200.720001\n",
       "75%    213.279999\n",
       "max    267.100006"
      ],
      "text/html": [
       "<div>\n",
       "<style scoped>\n",
       "    .dataframe tbody tr th:only-of-type {\n",
       "        vertical-align: middle;\n",
       "    }\n",
       "\n",
       "    .dataframe tbody tr th {\n",
       "        vertical-align: top;\n",
       "    }\n",
       "\n",
       "    .dataframe thead th {\n",
       "        text-align: right;\n",
       "    }\n",
       "</style>\n",
       "<table border=\"1\" class=\"dataframe\">\n",
       "  <thead>\n",
       "    <tr style=\"text-align: right;\">\n",
       "      <th></th>\n",
       "      <th>Close</th>\n",
       "    </tr>\n",
       "  </thead>\n",
       "  <tbody>\n",
       "    <tr>\n",
       "      <th>count</th>\n",
       "      <td>229.000000</td>\n",
       "    </tr>\n",
       "    <tr>\n",
       "      <th>mean</th>\n",
       "      <td>201.477598</td>\n",
       "    </tr>\n",
       "    <tr>\n",
       "      <th>std</th>\n",
       "      <td>28.246961</td>\n",
       "    </tr>\n",
       "    <tr>\n",
       "      <th>min</th>\n",
       "      <td>142.190002</td>\n",
       "    </tr>\n",
       "    <tr>\n",
       "      <th>25%</th>\n",
       "      <td>182.539993</td>\n",
       "    </tr>\n",
       "    <tr>\n",
       "      <th>50%</th>\n",
       "      <td>200.720001</td>\n",
       "    </tr>\n",
       "    <tr>\n",
       "      <th>75%</th>\n",
       "      <td>213.279999</td>\n",
       "    </tr>\n",
       "    <tr>\n",
       "      <th>max</th>\n",
       "      <td>267.100006</td>\n",
       "    </tr>\n",
       "  </tbody>\n",
       "</table>\n",
       "</div>"
      ]
     },
     "execution_count": 23,
     "metadata": {},
     "output_type": "execute_result"
    }
   ],
   "execution_count": 23
  },
  {
   "metadata": {
    "ExecuteTime": {
     "end_time": "2025-10-17T10:21:30.036532Z",
     "start_time": "2025-10-17T10:21:27.429687Z"
    }
   },
   "cell_type": "code",
   "source": "!pip install openpyxl",
   "id": "6c0b8a3c40f98472",
   "outputs": [
    {
     "name": "stdout",
     "output_type": "stream",
     "text": [
      "Requirement already satisfied: openpyxl in c:\\users\\cscomarch\\pycharmprojects\\pythondatascienceanalizadanych-16-07-2025\\.venv\\lib\\site-packages (3.1.5)\n",
      "Requirement already satisfied: et-xmlfile in c:\\users\\cscomarch\\pycharmprojects\\pythondatascienceanalizadanych-16-07-2025\\.venv\\lib\\site-packages (from openpyxl) (2.0.0)\n"
     ]
    },
    {
     "name": "stderr",
     "output_type": "stream",
     "text": [
      "\n",
      "[notice] A new release of pip is available: 25.1.1 -> 25.2\n",
      "[notice] To update, run: python.exe -m pip install --upgrade pip\n"
     ]
    }
   ],
   "execution_count": 24
  },
  {
   "metadata": {
    "ExecuteTime": {
     "end_time": "2025-10-17T10:21:30.410388Z",
     "start_time": "2025-10-17T10:21:30.078521Z"
    }
   },
   "cell_type": "code",
   "source": "df.to_excel(\"dane_akcje_aple.xlsx\", index=False)",
   "id": "303c446b20dc3b38",
   "outputs": [],
   "execution_count": 25
  },
  {
   "metadata": {},
   "cell_type": "markdown",
   "source": "--------\n",
   "id": "7f0688a034f96964"
  },
  {
   "metadata": {
    "ExecuteTime": {
     "end_time": "2025-10-17T13:04:14.352205Z",
     "start_time": "2025-10-17T13:04:11.452963Z"
    }
   },
   "cell_type": "code",
   "source": "import pandas as pd",
   "id": "bc3157a8df68ac7a",
   "outputs": [],
   "execution_count": 2
  },
  {
   "metadata": {
    "ExecuteTime": {
     "end_time": "2025-10-17T13:04:51.941934Z",
     "start_time": "2025-10-17T13:04:51.924747Z"
    }
   },
   "cell_type": "code",
   "source": [
    "df = pd.read_csv('evolution_of_data_analysis.csv', delimiter=\"|\")\n",
    "df.describe()"
   ],
   "id": "d6e961849d037648",
   "outputs": [
    {
     "data": {
      "text/plain": [
       "              Year\n",
       "count    42.000000\n",
       "mean   1993.833333\n",
       "std      18.876901\n",
       "min    1945.000000\n",
       "25%    1987.500000\n",
       "50%    1999.000000\n",
       "75%    2006.750000\n",
       "max    2018.000000"
      ],
      "text/html": [
       "<div>\n",
       "<style scoped>\n",
       "    .dataframe tbody tr th:only-of-type {\n",
       "        vertical-align: middle;\n",
       "    }\n",
       "\n",
       "    .dataframe tbody tr th {\n",
       "        vertical-align: top;\n",
       "    }\n",
       "\n",
       "    .dataframe thead th {\n",
       "        text-align: right;\n",
       "    }\n",
       "</style>\n",
       "<table border=\"1\" class=\"dataframe\">\n",
       "  <thead>\n",
       "    <tr style=\"text-align: right;\">\n",
       "      <th></th>\n",
       "      <th>Year</th>\n",
       "    </tr>\n",
       "  </thead>\n",
       "  <tbody>\n",
       "    <tr>\n",
       "      <th>count</th>\n",
       "      <td>42.000000</td>\n",
       "    </tr>\n",
       "    <tr>\n",
       "      <th>mean</th>\n",
       "      <td>1993.833333</td>\n",
       "    </tr>\n",
       "    <tr>\n",
       "      <th>std</th>\n",
       "      <td>18.876901</td>\n",
       "    </tr>\n",
       "    <tr>\n",
       "      <th>min</th>\n",
       "      <td>1945.000000</td>\n",
       "    </tr>\n",
       "    <tr>\n",
       "      <th>25%</th>\n",
       "      <td>1987.500000</td>\n",
       "    </tr>\n",
       "    <tr>\n",
       "      <th>50%</th>\n",
       "      <td>1999.000000</td>\n",
       "    </tr>\n",
       "    <tr>\n",
       "      <th>75%</th>\n",
       "      <td>2006.750000</td>\n",
       "    </tr>\n",
       "    <tr>\n",
       "      <th>max</th>\n",
       "      <td>2018.000000</td>\n",
       "    </tr>\n",
       "  </tbody>\n",
       "</table>\n",
       "</div>"
      ]
     },
     "execution_count": 4,
     "metadata": {},
     "output_type": "execute_result"
    }
   ],
   "execution_count": 4
  },
  {
   "metadata": {
    "ExecuteTime": {
     "end_time": "2025-10-17T13:05:12.616201Z",
     "start_time": "2025-10-17T13:05:12.588437Z"
    }
   },
   "cell_type": "code",
   "source": "df.info() # sprawdzenie typów, null i podobne",
   "id": "22b293aae903a269",
   "outputs": [
    {
     "name": "stdout",
     "output_type": "stream",
     "text": [
      "<class 'pandas.core.frame.DataFrame'>\n",
      "RangeIndex: 42 entries, 0 to 41\n",
      "Data columns (total 7 columns):\n",
      " #   Column                            Non-Null Count  Dtype \n",
      "---  ------                            --------------  ----- \n",
      " 0   Year                              42 non-null     int64 \n",
      " 1   Decade                            42 non-null     object\n",
      " 2   Milestone Title                   42 non-null     object\n",
      " 3   Milestone Event                   42 non-null     object\n",
      " 4   Why Important                     42 non-null     object\n",
      " 5   Reference                         39 non-null     object\n",
      " 6   People Process or Technology Tag  42 non-null     object\n",
      "dtypes: int64(1), object(6)\n",
      "memory usage: 2.4+ KB\n"
     ]
    }
   ],
   "execution_count": 5
  },
  {
   "metadata": {
    "ExecuteTime": {
     "end_time": "2025-10-17T13:09:38.419547Z",
     "start_time": "2025-10-17T13:09:38.414032Z"
    }
   },
   "cell_type": "code",
   "source": "df.shape",
   "id": "798677bc87944a0e",
   "outputs": [
    {
     "data": {
      "text/plain": [
       "(42, 7)"
      ]
     },
     "execution_count": 6,
     "metadata": {},
     "output_type": "execute_result"
    }
   ],
   "execution_count": 6
  },
  {
   "metadata": {
    "ExecuteTime": {
     "end_time": "2025-10-17T13:10:10.681226Z",
     "start_time": "2025-10-17T13:10:10.671922Z"
    }
   },
   "cell_type": "code",
   "source": "df.head() # pierwsze 5 wierszy",
   "id": "28802153e333a7c7",
   "outputs": [
    {
     "data": {
      "text/plain": [
       "   Year Decade             Milestone Title  \\\n",
       "0  1945  1940s                       ENIAC   \n",
       "1  1945  1940s    John von Neumann / array   \n",
       "2  1956  1950s             First Hard Disk   \n",
       "3  1958  1950s                       Modem   \n",
       "4  1961  1960s  John Tukey / data analysis   \n",
       "\n",
       "                                     Milestone Event  \\\n",
       "0  First electronic general-purpose computer = ENIAC   \n",
       "1  John von Neumann creates a merge sort algorith...   \n",
       "2                  The first computer hard disk used   \n",
       "3                                 The modem invented   \n",
       "4      Statistician John Tukey defined data analysis   \n",
       "\n",
       "                                       Why Important  \\\n",
       "0   Faster decisions using a computer and mathmatics   \n",
       "1  Arrays allow mathmatics| grouping and sorting ...   \n",
       "2  Storing data for reuse = reduces time to recre...   \n",
       "3  Communication between computers| foundation of...   \n",
       "4  Defined the process and procedures of collecti...   \n",
       "\n",
       "                                           Reference  \\\n",
       "0                https://en.wikipedia.org/wiki/ENIAC   \n",
       "1     https://en.wikipedia.org/wiki/John_von_Neumann   \n",
       "2             https://fiftiesweb.com/pop/inventions/   \n",
       "3             https://fiftiesweb.com/pop/inventions/   \n",
       "4  https://projecteuclid.org/download/pdf_1/eucli...   \n",
       "\n",
       "  People Process or Technology Tag  \n",
       "0                       Technology  \n",
       "1                           People  \n",
       "2                       Technology  \n",
       "3                       Technology  \n",
       "4                           People  "
      ],
      "text/html": [
       "<div>\n",
       "<style scoped>\n",
       "    .dataframe tbody tr th:only-of-type {\n",
       "        vertical-align: middle;\n",
       "    }\n",
       "\n",
       "    .dataframe tbody tr th {\n",
       "        vertical-align: top;\n",
       "    }\n",
       "\n",
       "    .dataframe thead th {\n",
       "        text-align: right;\n",
       "    }\n",
       "</style>\n",
       "<table border=\"1\" class=\"dataframe\">\n",
       "  <thead>\n",
       "    <tr style=\"text-align: right;\">\n",
       "      <th></th>\n",
       "      <th>Year</th>\n",
       "      <th>Decade</th>\n",
       "      <th>Milestone Title</th>\n",
       "      <th>Milestone Event</th>\n",
       "      <th>Why Important</th>\n",
       "      <th>Reference</th>\n",
       "      <th>People Process or Technology Tag</th>\n",
       "    </tr>\n",
       "  </thead>\n",
       "  <tbody>\n",
       "    <tr>\n",
       "      <th>0</th>\n",
       "      <td>1945</td>\n",
       "      <td>1940s</td>\n",
       "      <td>ENIAC</td>\n",
       "      <td>First electronic general-purpose computer = ENIAC</td>\n",
       "      <td>Faster decisions using a computer and mathmatics</td>\n",
       "      <td>https://en.wikipedia.org/wiki/ENIAC</td>\n",
       "      <td>Technology</td>\n",
       "    </tr>\n",
       "    <tr>\n",
       "      <th>1</th>\n",
       "      <td>1945</td>\n",
       "      <td>1940s</td>\n",
       "      <td>John von Neumann / array</td>\n",
       "      <td>John von Neumann creates a merge sort algorith...</td>\n",
       "      <td>Arrays allow mathmatics| grouping and sorting ...</td>\n",
       "      <td>https://en.wikipedia.org/wiki/John_von_Neumann</td>\n",
       "      <td>People</td>\n",
       "    </tr>\n",
       "    <tr>\n",
       "      <th>2</th>\n",
       "      <td>1956</td>\n",
       "      <td>1950s</td>\n",
       "      <td>First Hard Disk</td>\n",
       "      <td>The first computer hard disk used</td>\n",
       "      <td>Storing data for reuse = reduces time to recre...</td>\n",
       "      <td>https://fiftiesweb.com/pop/inventions/</td>\n",
       "      <td>Technology</td>\n",
       "    </tr>\n",
       "    <tr>\n",
       "      <th>3</th>\n",
       "      <td>1958</td>\n",
       "      <td>1950s</td>\n",
       "      <td>Modem</td>\n",
       "      <td>The modem invented</td>\n",
       "      <td>Communication between computers| foundation of...</td>\n",
       "      <td>https://fiftiesweb.com/pop/inventions/</td>\n",
       "      <td>Technology</td>\n",
       "    </tr>\n",
       "    <tr>\n",
       "      <th>4</th>\n",
       "      <td>1961</td>\n",
       "      <td>1960s</td>\n",
       "      <td>John Tukey / data analysis</td>\n",
       "      <td>Statistician John Tukey defined data analysis</td>\n",
       "      <td>Defined the process and procedures of collecti...</td>\n",
       "      <td>https://projecteuclid.org/download/pdf_1/eucli...</td>\n",
       "      <td>People</td>\n",
       "    </tr>\n",
       "  </tbody>\n",
       "</table>\n",
       "</div>"
      ]
     },
     "execution_count": 7,
     "metadata": {},
     "output_type": "execute_result"
    }
   ],
   "execution_count": 7
  },
  {
   "metadata": {
    "ExecuteTime": {
     "end_time": "2025-10-17T13:11:57.303351Z",
     "start_time": "2025-10-17T13:11:57.278633Z"
    }
   },
   "cell_type": "code",
   "source": [
    "movies_df = pd.read_csv(\"IMDB-Movie-Data.csv\", index_col=\"Title\")\n",
    "movies_df.info()"
   ],
   "id": "739a94669c4e103f",
   "outputs": [
    {
     "name": "stdout",
     "output_type": "stream",
     "text": [
      "<class 'pandas.core.frame.DataFrame'>\n",
      "Index: 1000 entries, Guardians of the Galaxy to Nine Lives\n",
      "Data columns (total 11 columns):\n",
      " #   Column              Non-Null Count  Dtype  \n",
      "---  ------              --------------  -----  \n",
      " 0   Rank                1000 non-null   int64  \n",
      " 1   Genre               1000 non-null   object \n",
      " 2   Description         1000 non-null   object \n",
      " 3   Director            1000 non-null   object \n",
      " 4   Actors              1000 non-null   object \n",
      " 5   Year                1000 non-null   int64  \n",
      " 6   Runtime (Minutes)   1000 non-null   int64  \n",
      " 7   Rating              1000 non-null   float64\n",
      " 8   Votes               1000 non-null   int64  \n",
      " 9   Revenue (Millions)  872 non-null    float64\n",
      " 10  Metascore           936 non-null    float64\n",
      "dtypes: float64(3), int64(4), object(4)\n",
      "memory usage: 93.8+ KB\n"
     ]
    }
   ],
   "execution_count": 8
  }
 ],
 "metadata": {
  "kernelspec": {
   "display_name": "Python 3",
   "language": "python",
   "name": "python3"
  },
  "language_info": {
   "codemirror_mode": {
    "name": "ipython",
    "version": 2
   },
   "file_extension": ".py",
   "mimetype": "text/x-python",
   "name": "python",
   "nbconvert_exporter": "python",
   "pygments_lexer": "ipython2",
   "version": "2.7.6"
  }
 },
 "nbformat": 4,
 "nbformat_minor": 5
}
